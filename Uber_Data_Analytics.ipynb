{
 "cells": [
  {
   "cell_type": "markdown",
   "id": "198f6739-48cc-4f8a-8e29-96ead06a2427",
   "metadata": {},
   "source": [
    "# Uber 2024 Data Analytics"
   ]
  },
  {
   "cell_type": "markdown",
   "id": "6ee31505-6500-4f65-8149-8533ce8f855c",
   "metadata": {},
   "source": [
    "***Imoport Libraries***"
   ]
  },
  {
   "cell_type": "code",
   "execution_count": 440,
   "id": "8c66baa7-1253-456d-b177-5623cb499d83",
   "metadata": {},
   "outputs": [],
   "source": [
    "import numpy as np\n",
    "import pandas as pd\n",
    "import matplotlib.pyplot as plt\n",
    "%matplotlib inline\n",
    "import seaborn as sns\n",
    "import warnings\n",
    "warnings.filterwarnings('ignore')"
   ]
  },
  {
   "cell_type": "markdown",
   "id": "ac8705ac-931f-4c5e-ac8f-a702309c8593",
   "metadata": {},
   "source": [
    "***Import Data Set***"
   ]
  },
  {
   "cell_type": "code",
   "execution_count": 441,
   "id": "2564118b-e382-4e5b-b3f7-52f9f0a9b880",
   "metadata": {},
   "outputs": [
    {
     "data": {
      "text/html": [
       "<div>\n",
       "<style scoped>\n",
       "    .dataframe tbody tr th:only-of-type {\n",
       "        vertical-align: middle;\n",
       "    }\n",
       "\n",
       "    .dataframe tbody tr th {\n",
       "        vertical-align: top;\n",
       "    }\n",
       "\n",
       "    .dataframe thead th {\n",
       "        text-align: right;\n",
       "    }\n",
       "</style>\n",
       "<table border=\"1\" class=\"dataframe\">\n",
       "  <thead>\n",
       "    <tr style=\"text-align: right;\">\n",
       "      <th></th>\n",
       "      <th>Date</th>\n",
       "      <th>Time</th>\n",
       "      <th>Booking ID</th>\n",
       "      <th>Booking Status</th>\n",
       "      <th>Customer ID</th>\n",
       "      <th>Vehicle Type</th>\n",
       "      <th>Pickup Location</th>\n",
       "      <th>Drop Location</th>\n",
       "      <th>Avg VTAT</th>\n",
       "      <th>Avg CTAT</th>\n",
       "      <th>...</th>\n",
       "      <th>Reason for cancelling by Customer</th>\n",
       "      <th>Cancelled Rides by Driver</th>\n",
       "      <th>Driver Cancellation Reason</th>\n",
       "      <th>Incomplete Rides</th>\n",
       "      <th>Incomplete Rides Reason</th>\n",
       "      <th>Booking Value</th>\n",
       "      <th>Ride Distance</th>\n",
       "      <th>Driver Ratings</th>\n",
       "      <th>Customer Rating</th>\n",
       "      <th>Payment Method</th>\n",
       "    </tr>\n",
       "  </thead>\n",
       "  <tbody>\n",
       "    <tr>\n",
       "      <th>0</th>\n",
       "      <td>2024-03-23</td>\n",
       "      <td>12:29:38</td>\n",
       "      <td>\"CNR5884300\"</td>\n",
       "      <td>No Driver Found</td>\n",
       "      <td>\"CID1982111\"</td>\n",
       "      <td>eBike</td>\n",
       "      <td>Palam Vihar</td>\n",
       "      <td>Jhilmil</td>\n",
       "      <td>NaN</td>\n",
       "      <td>NaN</td>\n",
       "      <td>...</td>\n",
       "      <td>NaN</td>\n",
       "      <td>NaN</td>\n",
       "      <td>NaN</td>\n",
       "      <td>NaN</td>\n",
       "      <td>NaN</td>\n",
       "      <td>NaN</td>\n",
       "      <td>NaN</td>\n",
       "      <td>NaN</td>\n",
       "      <td>NaN</td>\n",
       "      <td>NaN</td>\n",
       "    </tr>\n",
       "    <tr>\n",
       "      <th>1</th>\n",
       "      <td>2024-11-29</td>\n",
       "      <td>18:01:39</td>\n",
       "      <td>\"CNR1326809\"</td>\n",
       "      <td>Incomplete</td>\n",
       "      <td>\"CID4604802\"</td>\n",
       "      <td>Go Sedan</td>\n",
       "      <td>Shastri Nagar</td>\n",
       "      <td>Gurgaon Sector 56</td>\n",
       "      <td>4.9</td>\n",
       "      <td>14.0</td>\n",
       "      <td>...</td>\n",
       "      <td>NaN</td>\n",
       "      <td>NaN</td>\n",
       "      <td>NaN</td>\n",
       "      <td>1.0</td>\n",
       "      <td>Vehicle Breakdown</td>\n",
       "      <td>237.0</td>\n",
       "      <td>5.73</td>\n",
       "      <td>NaN</td>\n",
       "      <td>NaN</td>\n",
       "      <td>UPI</td>\n",
       "    </tr>\n",
       "    <tr>\n",
       "      <th>2</th>\n",
       "      <td>2024-08-23</td>\n",
       "      <td>08:56:10</td>\n",
       "      <td>\"CNR8494506\"</td>\n",
       "      <td>Completed</td>\n",
       "      <td>\"CID9202816\"</td>\n",
       "      <td>Auto</td>\n",
       "      <td>Khandsa</td>\n",
       "      <td>Malviya Nagar</td>\n",
       "      <td>13.4</td>\n",
       "      <td>25.8</td>\n",
       "      <td>...</td>\n",
       "      <td>NaN</td>\n",
       "      <td>NaN</td>\n",
       "      <td>NaN</td>\n",
       "      <td>NaN</td>\n",
       "      <td>NaN</td>\n",
       "      <td>627.0</td>\n",
       "      <td>13.58</td>\n",
       "      <td>4.9</td>\n",
       "      <td>4.9</td>\n",
       "      <td>Debit Card</td>\n",
       "    </tr>\n",
       "    <tr>\n",
       "      <th>3</th>\n",
       "      <td>2024-10-21</td>\n",
       "      <td>17:17:25</td>\n",
       "      <td>\"CNR8906825\"</td>\n",
       "      <td>Completed</td>\n",
       "      <td>\"CID2610914\"</td>\n",
       "      <td>Premier Sedan</td>\n",
       "      <td>Central Secretariat</td>\n",
       "      <td>Inderlok</td>\n",
       "      <td>13.1</td>\n",
       "      <td>28.5</td>\n",
       "      <td>...</td>\n",
       "      <td>NaN</td>\n",
       "      <td>NaN</td>\n",
       "      <td>NaN</td>\n",
       "      <td>NaN</td>\n",
       "      <td>NaN</td>\n",
       "      <td>416.0</td>\n",
       "      <td>34.02</td>\n",
       "      <td>4.6</td>\n",
       "      <td>5.0</td>\n",
       "      <td>UPI</td>\n",
       "    </tr>\n",
       "    <tr>\n",
       "      <th>4</th>\n",
       "      <td>2024-09-16</td>\n",
       "      <td>22:08:00</td>\n",
       "      <td>\"CNR1950162\"</td>\n",
       "      <td>Completed</td>\n",
       "      <td>\"CID9933542\"</td>\n",
       "      <td>Bike</td>\n",
       "      <td>Ghitorni Village</td>\n",
       "      <td>Khan Market</td>\n",
       "      <td>5.3</td>\n",
       "      <td>19.6</td>\n",
       "      <td>...</td>\n",
       "      <td>NaN</td>\n",
       "      <td>NaN</td>\n",
       "      <td>NaN</td>\n",
       "      <td>NaN</td>\n",
       "      <td>NaN</td>\n",
       "      <td>737.0</td>\n",
       "      <td>48.21</td>\n",
       "      <td>4.1</td>\n",
       "      <td>4.3</td>\n",
       "      <td>UPI</td>\n",
       "    </tr>\n",
       "    <tr>\n",
       "      <th>...</th>\n",
       "      <td>...</td>\n",
       "      <td>...</td>\n",
       "      <td>...</td>\n",
       "      <td>...</td>\n",
       "      <td>...</td>\n",
       "      <td>...</td>\n",
       "      <td>...</td>\n",
       "      <td>...</td>\n",
       "      <td>...</td>\n",
       "      <td>...</td>\n",
       "      <td>...</td>\n",
       "      <td>...</td>\n",
       "      <td>...</td>\n",
       "      <td>...</td>\n",
       "      <td>...</td>\n",
       "      <td>...</td>\n",
       "      <td>...</td>\n",
       "      <td>...</td>\n",
       "      <td>...</td>\n",
       "      <td>...</td>\n",
       "      <td>...</td>\n",
       "    </tr>\n",
       "    <tr>\n",
       "      <th>149995</th>\n",
       "      <td>2024-11-11</td>\n",
       "      <td>19:34:01</td>\n",
       "      <td>\"CNR6500631\"</td>\n",
       "      <td>Completed</td>\n",
       "      <td>\"CID4337371\"</td>\n",
       "      <td>Go Mini</td>\n",
       "      <td>MG Road</td>\n",
       "      <td>Ghitorni</td>\n",
       "      <td>10.2</td>\n",
       "      <td>44.4</td>\n",
       "      <td>...</td>\n",
       "      <td>NaN</td>\n",
       "      <td>NaN</td>\n",
       "      <td>NaN</td>\n",
       "      <td>NaN</td>\n",
       "      <td>NaN</td>\n",
       "      <td>475.0</td>\n",
       "      <td>40.08</td>\n",
       "      <td>3.7</td>\n",
       "      <td>4.1</td>\n",
       "      <td>Uber Wallet</td>\n",
       "    </tr>\n",
       "    <tr>\n",
       "      <th>149996</th>\n",
       "      <td>2024-11-24</td>\n",
       "      <td>15:55:09</td>\n",
       "      <td>\"CNR2468611\"</td>\n",
       "      <td>Completed</td>\n",
       "      <td>\"CID2325623\"</td>\n",
       "      <td>Go Mini</td>\n",
       "      <td>Golf Course Road</td>\n",
       "      <td>Akshardham</td>\n",
       "      <td>5.1</td>\n",
       "      <td>30.8</td>\n",
       "      <td>...</td>\n",
       "      <td>NaN</td>\n",
       "      <td>NaN</td>\n",
       "      <td>NaN</td>\n",
       "      <td>NaN</td>\n",
       "      <td>NaN</td>\n",
       "      <td>1093.0</td>\n",
       "      <td>21.31</td>\n",
       "      <td>4.8</td>\n",
       "      <td>5.0</td>\n",
       "      <td>UPI</td>\n",
       "    </tr>\n",
       "    <tr>\n",
       "      <th>149997</th>\n",
       "      <td>2024-09-18</td>\n",
       "      <td>10:55:15</td>\n",
       "      <td>\"CNR6358306\"</td>\n",
       "      <td>Completed</td>\n",
       "      <td>\"CID9925486\"</td>\n",
       "      <td>Go Sedan</td>\n",
       "      <td>Satguru Ram Singh Marg</td>\n",
       "      <td>Jor Bagh</td>\n",
       "      <td>2.7</td>\n",
       "      <td>23.4</td>\n",
       "      <td>...</td>\n",
       "      <td>NaN</td>\n",
       "      <td>NaN</td>\n",
       "      <td>NaN</td>\n",
       "      <td>NaN</td>\n",
       "      <td>NaN</td>\n",
       "      <td>852.0</td>\n",
       "      <td>15.93</td>\n",
       "      <td>3.9</td>\n",
       "      <td>4.4</td>\n",
       "      <td>Cash</td>\n",
       "    </tr>\n",
       "    <tr>\n",
       "      <th>149998</th>\n",
       "      <td>2024-10-05</td>\n",
       "      <td>07:53:34</td>\n",
       "      <td>\"CNR3030099\"</td>\n",
       "      <td>Completed</td>\n",
       "      <td>\"CID9415487\"</td>\n",
       "      <td>Auto</td>\n",
       "      <td>Ghaziabad</td>\n",
       "      <td>Saidulajab</td>\n",
       "      <td>6.9</td>\n",
       "      <td>39.6</td>\n",
       "      <td>...</td>\n",
       "      <td>NaN</td>\n",
       "      <td>NaN</td>\n",
       "      <td>NaN</td>\n",
       "      <td>NaN</td>\n",
       "      <td>NaN</td>\n",
       "      <td>333.0</td>\n",
       "      <td>45.54</td>\n",
       "      <td>4.1</td>\n",
       "      <td>3.7</td>\n",
       "      <td>UPI</td>\n",
       "    </tr>\n",
       "    <tr>\n",
       "      <th>149999</th>\n",
       "      <td>2024-03-10</td>\n",
       "      <td>15:38:03</td>\n",
       "      <td>\"CNR3447390\"</td>\n",
       "      <td>Completed</td>\n",
       "      <td>\"CID4108667\"</td>\n",
       "      <td>Premier Sedan</td>\n",
       "      <td>Ashok Park Main</td>\n",
       "      <td>Gurgaon Sector 29</td>\n",
       "      <td>3.5</td>\n",
       "      <td>33.7</td>\n",
       "      <td>...</td>\n",
       "      <td>NaN</td>\n",
       "      <td>NaN</td>\n",
       "      <td>NaN</td>\n",
       "      <td>NaN</td>\n",
       "      <td>NaN</td>\n",
       "      <td>806.0</td>\n",
       "      <td>21.19</td>\n",
       "      <td>4.6</td>\n",
       "      <td>4.9</td>\n",
       "      <td>Credit Card</td>\n",
       "    </tr>\n",
       "  </tbody>\n",
       "</table>\n",
       "<p>150000 rows × 21 columns</p>\n",
       "</div>"
      ],
      "text/plain": [
       "              Date      Time    Booking ID   Booking Status   Customer ID  \\\n",
       "0       2024-03-23  12:29:38  \"CNR5884300\"  No Driver Found  \"CID1982111\"   \n",
       "1       2024-11-29  18:01:39  \"CNR1326809\"       Incomplete  \"CID4604802\"   \n",
       "2       2024-08-23  08:56:10  \"CNR8494506\"        Completed  \"CID9202816\"   \n",
       "3       2024-10-21  17:17:25  \"CNR8906825\"        Completed  \"CID2610914\"   \n",
       "4       2024-09-16  22:08:00  \"CNR1950162\"        Completed  \"CID9933542\"   \n",
       "...            ...       ...           ...              ...           ...   \n",
       "149995  2024-11-11  19:34:01  \"CNR6500631\"        Completed  \"CID4337371\"   \n",
       "149996  2024-11-24  15:55:09  \"CNR2468611\"        Completed  \"CID2325623\"   \n",
       "149997  2024-09-18  10:55:15  \"CNR6358306\"        Completed  \"CID9925486\"   \n",
       "149998  2024-10-05  07:53:34  \"CNR3030099\"        Completed  \"CID9415487\"   \n",
       "149999  2024-03-10  15:38:03  \"CNR3447390\"        Completed  \"CID4108667\"   \n",
       "\n",
       "         Vehicle Type         Pickup Location      Drop Location  Avg VTAT  \\\n",
       "0               eBike             Palam Vihar            Jhilmil       NaN   \n",
       "1            Go Sedan           Shastri Nagar  Gurgaon Sector 56       4.9   \n",
       "2                Auto                 Khandsa      Malviya Nagar      13.4   \n",
       "3       Premier Sedan     Central Secretariat           Inderlok      13.1   \n",
       "4                Bike        Ghitorni Village        Khan Market       5.3   \n",
       "...               ...                     ...                ...       ...   \n",
       "149995        Go Mini                 MG Road           Ghitorni      10.2   \n",
       "149996        Go Mini        Golf Course Road         Akshardham       5.1   \n",
       "149997       Go Sedan  Satguru Ram Singh Marg           Jor Bagh       2.7   \n",
       "149998           Auto               Ghaziabad         Saidulajab       6.9   \n",
       "149999  Premier Sedan         Ashok Park Main  Gurgaon Sector 29       3.5   \n",
       "\n",
       "        Avg CTAT  ...  Reason for cancelling by Customer  \\\n",
       "0            NaN  ...                                NaN   \n",
       "1           14.0  ...                                NaN   \n",
       "2           25.8  ...                                NaN   \n",
       "3           28.5  ...                                NaN   \n",
       "4           19.6  ...                                NaN   \n",
       "...          ...  ...                                ...   \n",
       "149995      44.4  ...                                NaN   \n",
       "149996      30.8  ...                                NaN   \n",
       "149997      23.4  ...                                NaN   \n",
       "149998      39.6  ...                                NaN   \n",
       "149999      33.7  ...                                NaN   \n",
       "\n",
       "       Cancelled Rides by Driver  Driver Cancellation Reason Incomplete Rides  \\\n",
       "0                            NaN                         NaN              NaN   \n",
       "1                            NaN                         NaN              1.0   \n",
       "2                            NaN                         NaN              NaN   \n",
       "3                            NaN                         NaN              NaN   \n",
       "4                            NaN                         NaN              NaN   \n",
       "...                          ...                         ...              ...   \n",
       "149995                       NaN                         NaN              NaN   \n",
       "149996                       NaN                         NaN              NaN   \n",
       "149997                       NaN                         NaN              NaN   \n",
       "149998                       NaN                         NaN              NaN   \n",
       "149999                       NaN                         NaN              NaN   \n",
       "\n",
       "        Incomplete Rides Reason Booking Value  Ride Distance  Driver Ratings  \\\n",
       "0                           NaN           NaN            NaN             NaN   \n",
       "1             Vehicle Breakdown         237.0           5.73             NaN   \n",
       "2                           NaN         627.0          13.58             4.9   \n",
       "3                           NaN         416.0          34.02             4.6   \n",
       "4                           NaN         737.0          48.21             4.1   \n",
       "...                         ...           ...            ...             ...   \n",
       "149995                      NaN         475.0          40.08             3.7   \n",
       "149996                      NaN        1093.0          21.31             4.8   \n",
       "149997                      NaN         852.0          15.93             3.9   \n",
       "149998                      NaN         333.0          45.54             4.1   \n",
       "149999                      NaN         806.0          21.19             4.6   \n",
       "\n",
       "        Customer Rating  Payment Method  \n",
       "0                   NaN             NaN  \n",
       "1                   NaN             UPI  \n",
       "2                   4.9      Debit Card  \n",
       "3                   5.0             UPI  \n",
       "4                   4.3             UPI  \n",
       "...                 ...             ...  \n",
       "149995              4.1     Uber Wallet  \n",
       "149996              5.0             UPI  \n",
       "149997              4.4            Cash  \n",
       "149998              3.7             UPI  \n",
       "149999              4.9     Credit Card  \n",
       "\n",
       "[150000 rows x 21 columns]"
      ]
     },
     "execution_count": 441,
     "metadata": {},
     "output_type": "execute_result"
    }
   ],
   "source": [
    "df = pd.read_csv('~/Documents/data_sets/uber_data_set/ncr_ride_bookings.csv')\n",
    "df"
   ]
  },
  {
   "cell_type": "code",
   "execution_count": 442,
   "id": "a7f4471e-3937-4c58-845f-49c860309d61",
   "metadata": {},
   "outputs": [
    {
     "data": {
      "text/plain": [
       "Index(['Date', 'Time', 'Booking ID', 'Booking Status', 'Customer ID',\n",
       "       'Vehicle Type', 'Pickup Location', 'Drop Location', 'Avg VTAT',\n",
       "       'Avg CTAT', 'Cancelled Rides by Customer',\n",
       "       'Reason for cancelling by Customer', 'Cancelled Rides by Driver',\n",
       "       'Driver Cancellation Reason', 'Incomplete Rides',\n",
       "       'Incomplete Rides Reason', 'Booking Value', 'Ride Distance',\n",
       "       'Driver Ratings', 'Customer Rating', 'Payment Method'],\n",
       "      dtype='object')"
      ]
     },
     "execution_count": 442,
     "metadata": {},
     "output_type": "execute_result"
    }
   ],
   "source": [
    "df.columns"
   ]
  },
  {
   "cell_type": "markdown",
   "id": "1a358661-3f48-49e8-b3aa-7337997c2242",
   "metadata": {},
   "source": [
    "***Data Cleaning***"
   ]
  },
  {
   "cell_type": "code",
   "execution_count": 443,
   "id": "a468525e-3877-4bbc-a99f-08e19ce7bd76",
   "metadata": {},
   "outputs": [
    {
     "data": {
      "text/html": [
       "<div>\n",
       "<style scoped>\n",
       "    .dataframe tbody tr th:only-of-type {\n",
       "        vertical-align: middle;\n",
       "    }\n",
       "\n",
       "    .dataframe tbody tr th {\n",
       "        vertical-align: top;\n",
       "    }\n",
       "\n",
       "    .dataframe thead th {\n",
       "        text-align: right;\n",
       "    }\n",
       "</style>\n",
       "<table border=\"1\" class=\"dataframe\">\n",
       "  <thead>\n",
       "    <tr style=\"text-align: right;\">\n",
       "      <th></th>\n",
       "      <th>Date</th>\n",
       "      <th>Time</th>\n",
       "      <th>Booking ID</th>\n",
       "      <th>Booking Status</th>\n",
       "      <th>Customer ID</th>\n",
       "      <th>Vehicle Type</th>\n",
       "      <th>Pickup Location</th>\n",
       "      <th>Drop Location</th>\n",
       "      <th>Avg VTAT</th>\n",
       "      <th>Avg CTAT</th>\n",
       "      <th>...</th>\n",
       "      <th>Reason for cancelling by Customer</th>\n",
       "      <th>Cancelled Rides by Driver</th>\n",
       "      <th>Driver Cancellation Reason</th>\n",
       "      <th>Incomplete Rides</th>\n",
       "      <th>Incomplete Rides Reason</th>\n",
       "      <th>Booking Value</th>\n",
       "      <th>Ride Distance</th>\n",
       "      <th>Driver Ratings</th>\n",
       "      <th>Customer Rating</th>\n",
       "      <th>Payment Method</th>\n",
       "    </tr>\n",
       "  </thead>\n",
       "  <tbody>\n",
       "    <tr>\n",
       "      <th>0</th>\n",
       "      <td>2024-03-23</td>\n",
       "      <td>12:29:38</td>\n",
       "      <td>\"CNR5884300\"</td>\n",
       "      <td>No Driver Found</td>\n",
       "      <td>\"CID1982111\"</td>\n",
       "      <td>eBike</td>\n",
       "      <td>Palam Vihar</td>\n",
       "      <td>Jhilmil</td>\n",
       "      <td>NaN</td>\n",
       "      <td>NaN</td>\n",
       "      <td>...</td>\n",
       "      <td>NaN</td>\n",
       "      <td>NaN</td>\n",
       "      <td>NaN</td>\n",
       "      <td>NaN</td>\n",
       "      <td>NaN</td>\n",
       "      <td>NaN</td>\n",
       "      <td>NaN</td>\n",
       "      <td>NaN</td>\n",
       "      <td>NaN</td>\n",
       "      <td>NaN</td>\n",
       "    </tr>\n",
       "    <tr>\n",
       "      <th>1</th>\n",
       "      <td>2024-11-29</td>\n",
       "      <td>18:01:39</td>\n",
       "      <td>\"CNR1326809\"</td>\n",
       "      <td>Incomplete</td>\n",
       "      <td>\"CID4604802\"</td>\n",
       "      <td>Go Sedan</td>\n",
       "      <td>Shastri Nagar</td>\n",
       "      <td>Gurgaon Sector 56</td>\n",
       "      <td>4.9</td>\n",
       "      <td>14.0</td>\n",
       "      <td>...</td>\n",
       "      <td>NaN</td>\n",
       "      <td>NaN</td>\n",
       "      <td>NaN</td>\n",
       "      <td>1.0</td>\n",
       "      <td>Vehicle Breakdown</td>\n",
       "      <td>237.0</td>\n",
       "      <td>5.73</td>\n",
       "      <td>NaN</td>\n",
       "      <td>NaN</td>\n",
       "      <td>UPI</td>\n",
       "    </tr>\n",
       "    <tr>\n",
       "      <th>2</th>\n",
       "      <td>2024-08-23</td>\n",
       "      <td>08:56:10</td>\n",
       "      <td>\"CNR8494506\"</td>\n",
       "      <td>Completed</td>\n",
       "      <td>\"CID9202816\"</td>\n",
       "      <td>Auto</td>\n",
       "      <td>Khandsa</td>\n",
       "      <td>Malviya Nagar</td>\n",
       "      <td>13.4</td>\n",
       "      <td>25.8</td>\n",
       "      <td>...</td>\n",
       "      <td>NaN</td>\n",
       "      <td>NaN</td>\n",
       "      <td>NaN</td>\n",
       "      <td>NaN</td>\n",
       "      <td>NaN</td>\n",
       "      <td>627.0</td>\n",
       "      <td>13.58</td>\n",
       "      <td>4.9</td>\n",
       "      <td>4.9</td>\n",
       "      <td>Debit Card</td>\n",
       "    </tr>\n",
       "    <tr>\n",
       "      <th>3</th>\n",
       "      <td>2024-10-21</td>\n",
       "      <td>17:17:25</td>\n",
       "      <td>\"CNR8906825\"</td>\n",
       "      <td>Completed</td>\n",
       "      <td>\"CID2610914\"</td>\n",
       "      <td>Premier Sedan</td>\n",
       "      <td>Central Secretariat</td>\n",
       "      <td>Inderlok</td>\n",
       "      <td>13.1</td>\n",
       "      <td>28.5</td>\n",
       "      <td>...</td>\n",
       "      <td>NaN</td>\n",
       "      <td>NaN</td>\n",
       "      <td>NaN</td>\n",
       "      <td>NaN</td>\n",
       "      <td>NaN</td>\n",
       "      <td>416.0</td>\n",
       "      <td>34.02</td>\n",
       "      <td>4.6</td>\n",
       "      <td>5.0</td>\n",
       "      <td>UPI</td>\n",
       "    </tr>\n",
       "    <tr>\n",
       "      <th>4</th>\n",
       "      <td>2024-09-16</td>\n",
       "      <td>22:08:00</td>\n",
       "      <td>\"CNR1950162\"</td>\n",
       "      <td>Completed</td>\n",
       "      <td>\"CID9933542\"</td>\n",
       "      <td>Bike</td>\n",
       "      <td>Ghitorni Village</td>\n",
       "      <td>Khan Market</td>\n",
       "      <td>5.3</td>\n",
       "      <td>19.6</td>\n",
       "      <td>...</td>\n",
       "      <td>NaN</td>\n",
       "      <td>NaN</td>\n",
       "      <td>NaN</td>\n",
       "      <td>NaN</td>\n",
       "      <td>NaN</td>\n",
       "      <td>737.0</td>\n",
       "      <td>48.21</td>\n",
       "      <td>4.1</td>\n",
       "      <td>4.3</td>\n",
       "      <td>UPI</td>\n",
       "    </tr>\n",
       "  </tbody>\n",
       "</table>\n",
       "<p>5 rows × 21 columns</p>\n",
       "</div>"
      ],
      "text/plain": [
       "         Date      Time    Booking ID   Booking Status   Customer ID  \\\n",
       "0  2024-03-23  12:29:38  \"CNR5884300\"  No Driver Found  \"CID1982111\"   \n",
       "1  2024-11-29  18:01:39  \"CNR1326809\"       Incomplete  \"CID4604802\"   \n",
       "2  2024-08-23  08:56:10  \"CNR8494506\"        Completed  \"CID9202816\"   \n",
       "3  2024-10-21  17:17:25  \"CNR8906825\"        Completed  \"CID2610914\"   \n",
       "4  2024-09-16  22:08:00  \"CNR1950162\"        Completed  \"CID9933542\"   \n",
       "\n",
       "    Vehicle Type      Pickup Location      Drop Location  Avg VTAT  Avg CTAT  \\\n",
       "0          eBike          Palam Vihar            Jhilmil       NaN       NaN   \n",
       "1       Go Sedan        Shastri Nagar  Gurgaon Sector 56       4.9      14.0   \n",
       "2           Auto              Khandsa      Malviya Nagar      13.4      25.8   \n",
       "3  Premier Sedan  Central Secretariat           Inderlok      13.1      28.5   \n",
       "4           Bike     Ghitorni Village        Khan Market       5.3      19.6   \n",
       "\n",
       "   ...  Reason for cancelling by Customer Cancelled Rides by Driver  \\\n",
       "0  ...                                NaN                       NaN   \n",
       "1  ...                                NaN                       NaN   \n",
       "2  ...                                NaN                       NaN   \n",
       "3  ...                                NaN                       NaN   \n",
       "4  ...                                NaN                       NaN   \n",
       "\n",
       "   Driver Cancellation Reason Incomplete Rides  Incomplete Rides Reason  \\\n",
       "0                         NaN              NaN                      NaN   \n",
       "1                         NaN              1.0        Vehicle Breakdown   \n",
       "2                         NaN              NaN                      NaN   \n",
       "3                         NaN              NaN                      NaN   \n",
       "4                         NaN              NaN                      NaN   \n",
       "\n",
       "  Booking Value  Ride Distance  Driver Ratings  Customer Rating  \\\n",
       "0           NaN            NaN             NaN              NaN   \n",
       "1         237.0           5.73             NaN              NaN   \n",
       "2         627.0          13.58             4.9              4.9   \n",
       "3         416.0          34.02             4.6              5.0   \n",
       "4         737.0          48.21             4.1              4.3   \n",
       "\n",
       "   Payment Method  \n",
       "0             NaN  \n",
       "1             UPI  \n",
       "2      Debit Card  \n",
       "3             UPI  \n",
       "4             UPI  \n",
       "\n",
       "[5 rows x 21 columns]"
      ]
     },
     "execution_count": 443,
     "metadata": {},
     "output_type": "execute_result"
    }
   ],
   "source": [
    "df.head()"
   ]
  },
  {
   "cell_type": "code",
   "execution_count": 444,
   "id": "4fea8815-2ca8-4028-80d5-7f73495d7767",
   "metadata": {},
   "outputs": [
    {
     "name": "stdout",
     "output_type": "stream",
     "text": [
      "<class 'pandas.core.frame.DataFrame'>\n",
      "RangeIndex: 150000 entries, 0 to 149999\n",
      "Data columns (total 21 columns):\n",
      " #   Column                             Non-Null Count   Dtype  \n",
      "---  ------                             --------------   -----  \n",
      " 0   Date                               150000 non-null  object \n",
      " 1   Time                               150000 non-null  object \n",
      " 2   Booking ID                         150000 non-null  object \n",
      " 3   Booking Status                     150000 non-null  object \n",
      " 4   Customer ID                        150000 non-null  object \n",
      " 5   Vehicle Type                       150000 non-null  object \n",
      " 6   Pickup Location                    150000 non-null  object \n",
      " 7   Drop Location                      150000 non-null  object \n",
      " 8   Avg VTAT                           139500 non-null  float64\n",
      " 9   Avg CTAT                           102000 non-null  float64\n",
      " 10  Cancelled Rides by Customer        10500 non-null   float64\n",
      " 11  Reason for cancelling by Customer  10500 non-null   object \n",
      " 12  Cancelled Rides by Driver          27000 non-null   float64\n",
      " 13  Driver Cancellation Reason         27000 non-null   object \n",
      " 14  Incomplete Rides                   9000 non-null    float64\n",
      " 15  Incomplete Rides Reason            9000 non-null    object \n",
      " 16  Booking Value                      102000 non-null  float64\n",
      " 17  Ride Distance                      102000 non-null  float64\n",
      " 18  Driver Ratings                     93000 non-null   float64\n",
      " 19  Customer Rating                    93000 non-null   float64\n",
      " 20  Payment Method                     102000 non-null  object \n",
      "dtypes: float64(9), object(12)\n",
      "memory usage: 24.0+ MB\n"
     ]
    }
   ],
   "source": [
    "df.info()\n",
    "#checking for null values"
   ]
  },
  {
   "cell_type": "code",
   "execution_count": 445,
   "id": "d8a13870-ceca-4831-9d8c-f5737f1693b8",
   "metadata": {},
   "outputs": [
    {
     "data": {
      "text/plain": [
       "np.int64(0)"
      ]
     },
     "execution_count": 445,
     "metadata": {},
     "output_type": "execute_result"
    }
   ],
   "source": [
    "df1 = df.duplicated().sum()\n",
    "df1\n",
    "\n",
    "#checking for duplicated values"
   ]
  },
  {
   "cell_type": "code",
   "execution_count": 446,
   "id": "541f629c-1030-471f-9772-a3de7b9134ec",
   "metadata": {},
   "outputs": [],
   "source": [
    "#no duplicated values"
   ]
  },
  {
   "cell_type": "code",
   "execution_count": 447,
   "id": "42bb4c06-c524-4ca7-b2f5-43b4b02b7e39",
   "metadata": {},
   "outputs": [
    {
     "data": {
      "text/plain": [
       "Date                                      0\n",
       "Time                                      0\n",
       "Booking ID                                0\n",
       "Booking Status                            0\n",
       "Customer ID                               0\n",
       "Vehicle Type                              0\n",
       "Pickup Location                           0\n",
       "Drop Location                             0\n",
       "Avg VTAT                              10500\n",
       "Avg CTAT                              48000\n",
       "Cancelled Rides by Customer          139500\n",
       "Reason for cancelling by Customer    139500\n",
       "Cancelled Rides by Driver            123000\n",
       "Driver Cancellation Reason           123000\n",
       "Incomplete Rides                     141000\n",
       "Incomplete Rides Reason              141000\n",
       "Booking Value                         48000\n",
       "Ride Distance                         48000\n",
       "Driver Ratings                        57000\n",
       "Customer Rating                       57000\n",
       "Payment Method                        48000\n",
       "dtype: int64"
      ]
     },
     "execution_count": 447,
     "metadata": {},
     "output_type": "execute_result"
    }
   ],
   "source": [
    "df.isnull().sum()\n",
    "\n",
    "#checking for null values in each column"
   ]
  },
  {
   "cell_type": "code",
   "execution_count": 448,
   "id": "9c9b0821-053d-4336-aa90-7d1c270c5d1e",
   "metadata": {},
   "outputs": [],
   "source": [
    "# numeric: Avg VTAT, Avg CTAT, Cancelled Rides by Customer, Cancelled Rides by Driver, Incomplete Rides, Booking Value, Ride Distance, Driver Rating, Customer Rating\n",
    "# categorical: Reason for cancelling by Customer, Driver Cancellation Reason. Incomplete Rides Reason, Payment Method"
   ]
  },
  {
   "cell_type": "markdown",
   "id": "92a791df-8395-4780-83a5-1fa9856e6fd4",
   "metadata": {},
   "source": [
    "Cleaning Numerical and Categorical Null Values "
   ]
  },
  {
   "cell_type": "code",
   "execution_count": 449,
   "id": "5bc1cb15-dd9d-4f30-8aaa-38eedcfad835",
   "metadata": {},
   "outputs": [
    {
     "data": {
      "text/plain": [
       "array([ nan,  4.9, 13.4, 13.1,  5.3,  5.1,  7.1, 12.1,  6.1,  7.7,  4.6,\n",
       "       12.2, 14. ,  8.5,  5.6,  6. , 12.4, 10.3,  7. , 10.4,  7.9, 13.6,\n",
       "       11.5,  3.1,  8.9,  9.2,  2. ,  5.4, 14.6,  6.7,  6.6, 10. , 11. ,\n",
       "        8. , 12.8,  6.4, 11.3,  2.3,  7.8,  8.8,  9.9,  4.1, 11.2,  3. ,\n",
       "        9.1,  4.3, 11.4,  6.3, 11.7, 16.6,  5.8,  4. ,  3.4, 11.1,  5.9,\n",
       "        8.1,  5. , 12. ,  3.2,  9.6,  3.9,  8.4, 10.9,  5.7,  8.6,  9.5,\n",
       "        2.6,  2.1, 14.4,  7.5, 10.8, 14.7,  3.5,  8.3, 11.9, 12.5, 13.3,\n",
       "        9.7,  3.6,  9.4,  9. ,  2.4, 19.1,  2.9, 18.5, 16.1, 13.7,  4.5,\n",
       "        6.9,  6.2,  7.2,  3.7, 11.6,  3.3,  4.7,  7.4,  9.3,  8.2, 13.5,\n",
       "        4.4,  2.7,  7.3, 10.5,  6.8, 10.7, 12.3,  3.8, 10.2,  9.8,  8.7,\n",
       "       14.2,  6.5, 12.9,  4.2,  5.2, 16.9,  7.6, 14.9, 11.8, 14.3, 10.1,\n",
       "       12.6, 14.8, 13.2, 14.5,  4.8, 14.1,  2.5, 15. , 16.2, 12.7,  5.5,\n",
       "        2.8, 19.2, 18. , 13.9, 13. , 10.6, 20. , 17.6, 15.7,  2.2, 16.5,\n",
       "       15.9, 19.6, 19.9, 19.8, 16. , 16.4, 13.8, 18.7, 17. , 15.5, 16.8,\n",
       "       16.7, 15.4, 18.8, 17.8, 19.3, 17.2, 15.2, 19.7, 17.5, 17.1, 16.3,\n",
       "       15.1, 18.3, 17.3, 19.4, 19.5, 17.4, 19. , 18.6, 15.6, 18.2, 18.4,\n",
       "       18.1, 15.3, 17.9, 17.7, 18.9, 15.8])"
      ]
     },
     "execution_count": 449,
     "metadata": {},
     "output_type": "execute_result"
    }
   ],
   "source": [
    "#Avg VTAT\n",
    "df['Avg VTAT'].unique()"
   ]
  },
  {
   "cell_type": "code",
   "execution_count": 450,
   "id": "fe6af9ec-7e1a-48d6-a961-d9f53946c2e6",
   "metadata": {},
   "outputs": [
    {
     "data": {
      "text/plain": [
       "np.int64(10500)"
      ]
     },
     "execution_count": 450,
     "metadata": {},
     "output_type": "execute_result"
    }
   ],
   "source": [
    "total_null_avg_vtat = df['Avg VTAT'].isna().sum()\n",
    "total_null_avg_vtat"
   ]
  },
  {
   "cell_type": "code",
   "execution_count": 451,
   "id": "67cd2aa9-a9dc-47bb-b2f3-323a7e30a71f",
   "metadata": {},
   "outputs": [
    {
     "data": {
      "text/plain": [
       "150000"
      ]
     },
     "execution_count": 451,
     "metadata": {},
     "output_type": "execute_result"
    }
   ],
   "source": [
    "total_rows = df.shape[0]\n",
    "total_rows"
   ]
  },
  {
   "cell_type": "code",
   "execution_count": 452,
   "id": "133f88b9-7c17-4818-bdf3-b40d8a68e5e7",
   "metadata": {},
   "outputs": [
    {
     "data": {
      "text/plain": [
       "np.float64(7.000000000000001)"
      ]
     },
     "execution_count": 452,
     "metadata": {},
     "output_type": "execute_result"
    }
   ],
   "source": [
    "avg_vtat_data_loss = (total_null_avg_vtat/total_rows) * 100\n",
    "avg_vtat_data_loss\n",
    "#if data loss is > 5% then the data should not be dropped\n",
    "#data manipulation will be used"
   ]
  },
  {
   "cell_type": "code",
   "execution_count": 453,
   "id": "f2c1dd30-e334-495b-9de9-4a35e57401a8",
   "metadata": {},
   "outputs": [
    {
     "data": {
      "image/png": "[encoded data removed]",
      "text/plain": [
       "<Figure size 800x800 with 1 Axes>"
      ]
     },
     "metadata": {},
     "output_type": "display_data"
    }
   ],
   "source": [
    "#checking for appropriate replacement based on the distribution of the Avg VTAT values\n",
    "\n",
    "plt.figure(figsize=(8,8))\n",
    "sns.histplot(df['Avg VTAT'], bins= 20, kde=True, color='green')\n",
    "plt.title('Avg VTAT Distribution')\n",
    "plt.show()"
   ]
  },
  {
   "cell_type": "code",
   "execution_count": 454,
   "id": "a3591d97-f816-4d27-b449-f1b42beda21b",
   "metadata": {},
   "outputs": [],
   "source": [
    "#while the histogram appears to have a small tail on the right, the overall plot has an even distribution resembling a bell shape\n",
    "#since the Avg VTAT has a nomal distributin, mean will be used for replacing the null values"
   ]
  },
  {
   "cell_type": "code",
   "execution_count": 455,
   "id": "1b44c08f-ff36-4f9f-a792-511178b96714",
   "metadata": {},
   "outputs": [
    {
     "data": {
      "text/plain": [
       "np.float64(8.456351971326164)"
      ]
     },
     "execution_count": 455,
     "metadata": {},
     "output_type": "execute_result"
    }
   ],
   "source": [
    "vtat_mean = df['Avg VTAT'].mean()\n",
    "vtat_mean"
   ]
  },
  {
   "cell_type": "code",
   "execution_count": 456,
   "id": "fb4f52a9-d354-4ab7-91c7-c2b5cb0a67c4",
   "metadata": {},
   "outputs": [
    {
     "name": "stdout",
     "output_type": "stream",
     "text": [
      "<class 'pandas.core.series.Series'>\n",
      "RangeIndex: 150000 entries, 0 to 149999\n",
      "Series name: Avg VTAT\n",
      "Non-Null Count   Dtype  \n",
      "--------------   -----  \n",
      "150000 non-null  float64\n",
      "dtypes: float64(1)\n",
      "memory usage: 1.1 MB\n"
     ]
    }
   ],
   "source": [
    "df['Avg VTAT'].fillna(vtat_mean, inplace=True)\n",
    "df['Avg VTAT'].info()"
   ]
  },
  {
   "cell_type": "code",
   "execution_count": 457,
   "id": "25bd220e-959a-47bb-88d1-d551117a9788",
   "metadata": {},
   "outputs": [
    {
     "data": {
      "text/plain": [
       "array([ nan, 14. , 25.8, 28.5, 19.6, 18.1, 20.4, 16.5, 26. , 18.9, 28.2,\n",
       "       30.9, 36.9, 27.5, 33.7, 21.3, 25.1, 41.1, 25.2, 20.7, 31.1, 41. ,\n",
       "       20.5, 19.4, 25.4, 30. , 35.8, 18.7, 10.5, 42.3, 29.7, 42.2, 21.6,\n",
       "       40.7, 35.4, 23.2, 42.1, 21.5, 33. , 10.1, 24.3, 44.5, 27.1, 38.5,\n",
       "       17.2, 37.3, 26.7, 34.7, 39.1, 23. , 31.3, 43.7, 35. , 15.6, 43.6,\n",
       "       18. , 32.7, 24.6, 38.9, 16.4, 36.2, 35.5, 41.7, 38. , 40. , 37. ,\n",
       "       40.4, 28.7, 30.6, 21.1, 18.8, 30.4, 15.9, 21.9, 25. , 44.4, 16.7,\n",
       "       26.3, 15.8, 31.5, 30.7, 23.6, 24.2, 17.9, 15.5, 25.3, 37.4, 22.8,\n",
       "       28.9, 44.7, 24.8, 26.6, 32.6, 24.4, 39.3, 32.5, 43.1, 26.5, 17. ,\n",
       "       20.6, 37.7, 40.2, 31.6, 33.5, 32.9, 17.7, 39. , 18.4, 41.8, 22. ,\n",
       "       10.3, 15.7, 16.8, 22.2, 33.1, 27.9, 34.1, 33.9, 22.4, 34.6, 20.2,\n",
       "       30.8, 20. , 43.4, 27.2, 30.5, 27.4, 28.1, 31.4, 15.3, 39.9, 37.9,\n",
       "       37.8, 40.6, 23.7, 31.9, 19.7, 23.1, 20.9, 25.5, 42.5, 29.8, 42.6,\n",
       "       41.6, 34.9, 23.4, 17.3, 41.2, 27.3, 20.1, 18.5, 36.4, 12.4, 35.7,\n",
       "       27.7, 33.6, 26.2, 26.4, 19.2, 21. , 36.8, 31.7, 33.8, 19.8, 18.2,\n",
       "       28.4, 44.8, 39.6, 39.8, 42.4, 29. , 24. , 18.3, 34.8, 16. , 22.6,\n",
       "       30.1, 44. , 17.6, 29.1, 15.4, 19.1, 38.3, 36.3, 30.2, 24.7, 21.7,\n",
       "       18.6, 35.2, 37.2, 35.3, 34. , 22.7, 29.4, 32. , 17.1, 36.5, 24.9,\n",
       "       15.1, 35.9, 11. , 21.2, 38.6, 14.8, 32.1, 36.7, 24.1, 15. , 43. ,\n",
       "       41.4, 43.3, 15.2, 42.8, 25.6, 22.1, 32.4, 23.5, 34.2, 39.2, 43.8,\n",
       "       19.5, 37.1, 43.5, 32.8, 36.1, 41.9, 37.5, 44.2, 29.3, 19.9, 16.6,\n",
       "       43.2, 16.9, 26.8, 22.5, 31. , 23.9, 21.4, 27.8, 13.2, 43.9, 19. ,\n",
       "       39.5, 21.8, 44.9, 29.2, 33.3, 34.4, 31.8, 29.5, 30.3, 25.7, 38.2,\n",
       "       16.2, 23.3, 20.8, 28.3, 28. , 23.8, 35.6, 41.5, 37.6, 28.8, 17.8,\n",
       "       40.3, 42.9, 14.1, 27. , 16.3, 44.3, 16.1, 42. , 22.9, 33.4, 27.6,\n",
       "       40.5, 34.3, 31.2, 33.2, 25.9, 10.7, 32.3, 40.1, 19.3, 36.6, 11.3,\n",
       "       22.3, 36. , 39.7, 38.1, 12.2, 26.9, 35.1, 17.5, 28.6, 40.8, 29.9,\n",
       "       44.6, 45. , 13.6, 38.7, 29.6, 20.3, 34.5, 26.1, 38.8, 17.4, 42.7,\n",
       "       14.4, 14.5, 24.5, 41.3, 44.1, 12.8, 32.2, 39.4, 11.1, 38.4, 13. ,\n",
       "       13.7, 13.1, 12.7, 13.9, 10.6, 11.7, 14.9, 40.9, 11.8, 10.4, 10.8,\n",
       "       11.9, 14.7, 11.5, 13.3, 11.6, 14.6, 12. , 13.5, 12.9, 10.2, 10. ,\n",
       "       11.4, 12.5, 14.3, 11.2, 10.9, 13.4, 12.3, 14.2, 13.8, 12.1, 12.6])"
      ]
     },
     "execution_count": 457,
     "metadata": {},
     "output_type": "execute_result"
    }
   ],
   "source": [
    "#Avg CTAT\n",
    "df['Avg CTAT'].unique()"
   ]
  },
  {
   "cell_type": "code",
   "execution_count": 458,
   "id": "9118b8ac-bd6d-4817-8955-d6febb7aa8c0",
   "metadata": {},
   "outputs": [
    {
     "data": {
      "text/plain": [
       "np.int64(48000)"
      ]
     },
     "execution_count": 458,
     "metadata": {},
     "output_type": "execute_result"
    }
   ],
   "source": [
    "total_null_avg_ctat = df['Avg CTAT'].isna().sum()\n",
    "total_null_avg_ctat"
   ]
  },
  {
   "cell_type": "code",
   "execution_count": 459,
   "id": "9b705070-7a76-4241-969f-1804993fd414",
   "metadata": {},
   "outputs": [
    {
     "data": {
      "text/plain": [
       "np.float64(32.0)"
      ]
     },
     "execution_count": 459,
     "metadata": {},
     "output_type": "execute_result"
    }
   ],
   "source": [
    "avg_ctat_data_loss = (total_null_avg_ctat/total_rows) * 100\n",
    "avg_ctat_data_loss\n",
    "#since 32% > 5%, dropping is not an option\n",
    "#since 32% is almost a third of the data set, more caution should be used while applying data manipulation\n",
    "#to be safe, the column will be dropped"
   ]
  },
  {
   "cell_type": "code",
   "execution_count": 460,
   "id": "13c4fd36-5c23-44df-802c-9dbf3ca77820",
   "metadata": {},
   "outputs": [
    {
     "name": "stdout",
     "output_type": "stream",
     "text": [
      "<class 'pandas.core.frame.DataFrame'>\n",
      "RangeIndex: 150000 entries, 0 to 149999\n",
      "Data columns (total 20 columns):\n",
      " #   Column                             Non-Null Count   Dtype  \n",
      "---  ------                             --------------   -----  \n",
      " 0   Date                               150000 non-null  object \n",
      " 1   Time                               150000 non-null  object \n",
      " 2   Booking ID                         150000 non-null  object \n",
      " 3   Booking Status                     150000 non-null  object \n",
      " 4   Customer ID                        150000 non-null  object \n",
      " 5   Vehicle Type                       150000 non-null  object \n",
      " 6   Pickup Location                    150000 non-null  object \n",
      " 7   Drop Location                      150000 non-null  object \n",
      " 8   Avg VTAT                           150000 non-null  float64\n",
      " 9   Cancelled Rides by Customer        10500 non-null   float64\n",
      " 10  Reason for cancelling by Customer  10500 non-null   object \n",
      " 11  Cancelled Rides by Driver          27000 non-null   float64\n",
      " 12  Driver Cancellation Reason         27000 non-null   object \n",
      " 13  Incomplete Rides                   9000 non-null    float64\n",
      " 14  Incomplete Rides Reason            9000 non-null    object \n",
      " 15  Booking Value                      102000 non-null  float64\n",
      " 16  Ride Distance                      102000 non-null  float64\n",
      " 17  Driver Ratings                     93000 non-null   float64\n",
      " 18  Customer Rating                    93000 non-null   float64\n",
      " 19  Payment Method                     102000 non-null  object \n",
      "dtypes: float64(8), object(12)\n",
      "memory usage: 22.9+ MB\n"
     ]
    }
   ],
   "source": [
    "df = df.drop(['Avg CTAT'], axis=1)\n",
    "df.info()"
   ]
  },
  {
   "cell_type": "code",
   "execution_count": 461,
   "id": "95c50452-5830-4ddb-92c7-e8e90f073252",
   "metadata": {},
   "outputs": [],
   "source": [
    "# the column Avg CTAT has been removed"
   ]
  },
  {
   "cell_type": "code",
   "execution_count": 462,
   "id": "43f7aaff-b9b5-4a4f-9418-247d74d64b2f",
   "metadata": {},
   "outputs": [
    {
     "data": {
      "text/plain": [
       "array([nan,  1.])"
      ]
     },
     "execution_count": 462,
     "metadata": {},
     "output_type": "execute_result"
    }
   ],
   "source": [
    "#Cancelled Rides by Customer\n",
    "df['Cancelled Rides by Customer'].unique()"
   ]
  },
  {
   "cell_type": "code",
   "execution_count": 463,
   "id": "6b0f69b7-833e-4201-8be5-73eab20a0351",
   "metadata": {},
   "outputs": [
    {
     "name": "stdout",
     "output_type": "stream",
     "text": [
      "<class 'pandas.core.series.Series'>\n",
      "RangeIndex: 150000 entries, 0 to 149999\n",
      "Series name: Cancelled Rides by Customer\n",
      "Non-Null Count   Dtype  \n",
      "--------------   -----  \n",
      "150000 non-null  float64\n",
      "dtypes: float64(1)\n",
      "memory usage: 1.1 MB\n"
     ]
    }
   ],
   "source": [
    "df['Cancelled Rides by Customer'].fillna(0, inplace=True)\n",
    "df['Cancelled Rides by Customer'].info()"
   ]
  },
  {
   "cell_type": "code",
   "execution_count": 464,
   "id": "41804f05-9108-48f5-9073-2bbaa5257e58",
   "metadata": {},
   "outputs": [
    {
     "data": {
      "text/plain": [
       "array([nan, 'Driver is not moving towards pickup location',\n",
       "       'Driver asked to cancel', 'AC is not working', 'Change of plans',\n",
       "       'Wrong Address'], dtype=object)"
      ]
     },
     "execution_count": 464,
     "metadata": {},
     "output_type": "execute_result"
    }
   ],
   "source": [
    "#Reason for cancelling by Customer\n",
    "df['Reason for cancelling by Customer'].unique()"
   ]
  },
  {
   "cell_type": "code",
   "execution_count": 465,
   "id": "3cc24c04-18ef-442c-a41a-2f60be3581d0",
   "metadata": {},
   "outputs": [
    {
     "data": {
      "text/plain": [
       "array([0.])"
      ]
     },
     "execution_count": 465,
     "metadata": {},
     "output_type": "execute_result"
    }
   ],
   "source": [
    "df[df['Reason for cancelling by Customer'].isna()]['Cancelled Rides by Customer'].unique()\n",
    "#checking if there is no reason for cancelling by customer only if there was no cancellation by customer"
   ]
  },
  {
   "cell_type": "code",
   "execution_count": 466,
   "id": "872760ff-cb29-4d1c-acf4-1f999b8042a0",
   "metadata": {},
   "outputs": [
    {
     "name": "stdout",
     "output_type": "stream",
     "text": [
      "<class 'pandas.core.series.Series'>\n",
      "RangeIndex: 150000 entries, 0 to 149999\n",
      "Series name: Reason for cancelling by Customer\n",
      "Non-Null Count   Dtype \n",
      "--------------   ----- \n",
      "150000 non-null  object\n",
      "dtypes: object(1)\n",
      "memory usage: 1.1+ MB\n"
     ]
    }
   ],
   "source": [
    "df['Reason for cancelling by Customer'].fillna('no cancellation', inplace=True)\n",
    "df['Reason for cancelling by Customer'].info()"
   ]
  },
  {
   "cell_type": "code",
   "execution_count": 467,
   "id": "a5132ea0-39e4-45ed-b654-8dec4ce9234f",
   "metadata": {},
   "outputs": [
    {
     "data": {
      "text/plain": [
       "array([nan,  1.])"
      ]
     },
     "execution_count": 467,
     "metadata": {},
     "output_type": "execute_result"
    }
   ],
   "source": [
    "#Cancelled Rides by Driver\n",
    "df['Cancelled Rides by Driver'].unique()"
   ]
  },
  {
   "cell_type": "code",
   "execution_count": 468,
   "id": "67e4ddcc-c58b-4d53-91d2-45485a0b31cc",
   "metadata": {},
   "outputs": [
    {
     "name": "stdout",
     "output_type": "stream",
     "text": [
      "<class 'pandas.core.series.Series'>\n",
      "RangeIndex: 150000 entries, 0 to 149999\n",
      "Series name: Cancelled Rides by Driver\n",
      "Non-Null Count   Dtype  \n",
      "--------------   -----  \n",
      "150000 non-null  float64\n",
      "dtypes: float64(1)\n",
      "memory usage: 1.1 MB\n"
     ]
    }
   ],
   "source": [
    "df['Cancelled Rides by Driver'].fillna(0, inplace=True)\n",
    "df['Cancelled Rides by Driver'].info()"
   ]
  },
  {
   "cell_type": "code",
   "execution_count": 469,
   "id": "2bc0f5d0-a5b9-4a50-836e-05855726d049",
   "metadata": {},
   "outputs": [
    {
     "data": {
      "text/plain": [
       "array([nan, 'Personal & Car related issues', 'Customer related issue',\n",
       "       'More than permitted people in there',\n",
       "       'The customer was coughing/sick'], dtype=object)"
      ]
     },
     "execution_count": 469,
     "metadata": {},
     "output_type": "execute_result"
    }
   ],
   "source": [
    "#Driver Cancellation Reason\n",
    "df['Driver Cancellation Reason'].unique()"
   ]
  },
  {
   "cell_type": "code",
   "execution_count": 470,
   "id": "dbc4a9a4-23d5-4b2d-8691-1f43222b3700",
   "metadata": {},
   "outputs": [
    {
     "data": {
      "text/plain": [
       "array([0.])"
      ]
     },
     "execution_count": 470,
     "metadata": {},
     "output_type": "execute_result"
    }
   ],
   "source": [
    "df[df['Driver Cancellation Reason'].isna()]['Cancelled Rides by Driver'].unique()\n",
    "#checking if there was no reason for cancellation by the driver only if there was no cancellation by driver"
   ]
  },
  {
   "cell_type": "code",
   "execution_count": 471,
   "id": "d952e2cf-37ef-43ab-8def-f103540b376b",
   "metadata": {},
   "outputs": [
    {
     "name": "stdout",
     "output_type": "stream",
     "text": [
      "<class 'pandas.core.series.Series'>\n",
      "RangeIndex: 150000 entries, 0 to 149999\n",
      "Series name: Driver Cancellation Reason\n",
      "Non-Null Count   Dtype \n",
      "--------------   ----- \n",
      "150000 non-null  object\n",
      "dtypes: object(1)\n",
      "memory usage: 1.1+ MB\n"
     ]
    }
   ],
   "source": [
    "df['Driver Cancellation Reason'].fillna('no cancellation', inplace=True)\n",
    "df['Driver Cancellation Reason'].info()"
   ]
  },
  {
   "cell_type": "code",
   "execution_count": 472,
   "id": "e3cecf64-c427-4f16-bd67-dd37790374da",
   "metadata": {},
   "outputs": [
    {
     "data": {
      "text/plain": [
       "array([nan,  1.])"
      ]
     },
     "execution_count": 472,
     "metadata": {},
     "output_type": "execute_result"
    }
   ],
   "source": [
    "#Incomplete Rides\n",
    "df['Incomplete Rides'].unique()"
   ]
  },
  {
   "cell_type": "code",
   "execution_count": 473,
   "id": "34576b8e-e8eb-4f37-a6f9-8f7b2f6d37dc",
   "metadata": {},
   "outputs": [
    {
     "name": "stdout",
     "output_type": "stream",
     "text": [
      "<class 'pandas.core.series.Series'>\n",
      "RangeIndex: 150000 entries, 0 to 149999\n",
      "Series name: Incomplete Rides\n",
      "Non-Null Count   Dtype  \n",
      "--------------   -----  \n",
      "150000 non-null  float64\n",
      "dtypes: float64(1)\n",
      "memory usage: 1.1 MB\n"
     ]
    }
   ],
   "source": [
    "df['Incomplete Rides'].fillna(0, inplace=True)\n",
    "df['Incomplete Rides'].info()"
   ]
  },
  {
   "cell_type": "code",
   "execution_count": 474,
   "id": "c985a19a-13ba-412e-bf49-4c1276dbdd86",
   "metadata": {},
   "outputs": [
    {
     "data": {
      "text/plain": [
       "array([nan, 'Vehicle Breakdown', 'Other Issue', 'Customer Demand'],\n",
       "      dtype=object)"
      ]
     },
     "execution_count": 474,
     "metadata": {},
     "output_type": "execute_result"
    }
   ],
   "source": [
    "#Incomplete Rides Reason\n",
    "df['Incomplete Rides Reason'].unique()"
   ]
  },
  {
   "cell_type": "code",
   "execution_count": 475,
   "id": "61537b7e-9a93-4add-8cfd-f1d5c6dcf711",
   "metadata": {},
   "outputs": [
    {
     "data": {
      "text/plain": [
       "array([0.])"
      ]
     },
     "execution_count": 475,
     "metadata": {},
     "output_type": "execute_result"
    }
   ],
   "source": [
    "df[df['Incomplete Rides Reason'].isna()]['Incomplete Rides'].unique()\n",
    "#checking if there are any no incomplete rides reason for completed rides"
   ]
  },
  {
   "cell_type": "code",
   "execution_count": 476,
   "id": "144b1c14-eca7-4047-9321-091dbaa7f380",
   "metadata": {},
   "outputs": [
    {
     "name": "stdout",
     "output_type": "stream",
     "text": [
      "<class 'pandas.core.series.Series'>\n",
      "RangeIndex: 150000 entries, 0 to 149999\n",
      "Series name: Incomplete Rides Reason\n",
      "Non-Null Count   Dtype \n",
      "--------------   ----- \n",
      "150000 non-null  object\n",
      "dtypes: object(1)\n",
      "memory usage: 1.1+ MB\n"
     ]
    }
   ],
   "source": [
    "df['Incomplete Rides Reason'].fillna('Ride Completed', inplace=True)\n",
    "df['Incomplete Rides Reason'].info()"
   ]
  },
  {
   "cell_type": "code",
   "execution_count": 477,
   "id": "6e811516-f1a0-4b84-9062-f353fc54e61e",
   "metadata": {},
   "outputs": [
    {
     "data": {
      "text/plain": [
       "2566"
      ]
     },
     "execution_count": 477,
     "metadata": {},
     "output_type": "execute_result"
    }
   ],
   "source": [
    "#Booking Value\n",
    "df['Booking Value'].nunique()"
   ]
  },
  {
   "cell_type": "code",
   "execution_count": 478,
   "id": "61148737-3a65-4e03-b92f-434dea779220",
   "metadata": {},
   "outputs": [
    {
     "data": {
      "text/plain": [
       "np.int64(48000)"
      ]
     },
     "execution_count": 478,
     "metadata": {},
     "output_type": "execute_result"
    }
   ],
   "source": [
    "total_null_booking_value = df['Booking Value'].isna().sum()\n",
    "total_null_booking_value"
   ]
  },
  {
   "cell_type": "code",
   "execution_count": 479,
   "id": "d5b54283-9179-4bd6-af98-dcaa004fda76",
   "metadata": {},
   "outputs": [
    {
     "data": {
      "text/plain": [
       "np.float64(32.0)"
      ]
     },
     "execution_count": 479,
     "metadata": {},
     "output_type": "execute_result"
    }
   ],
   "source": [
    "booking_value_data_loss = (total_null_booking_value/total_rows) * 100\n",
    "booking_value_data_loss\n",
    "#similar to Avg CTAT, since 32% of booking value column has null values, it is best to drop the column"
   ]
  },
  {
   "cell_type": "code",
   "execution_count": 480,
   "id": "e239afff-68ae-42d5-bf90-f5900ffd7274",
   "metadata": {},
   "outputs": [
    {
     "name": "stdout",
     "output_type": "stream",
     "text": [
      "<class 'pandas.core.frame.DataFrame'>\n",
      "RangeIndex: 150000 entries, 0 to 149999\n",
      "Data columns (total 19 columns):\n",
      " #   Column                             Non-Null Count   Dtype  \n",
      "---  ------                             --------------   -----  \n",
      " 0   Date                               150000 non-null  object \n",
      " 1   Time                               150000 non-null  object \n",
      " 2   Booking ID                         150000 non-null  object \n",
      " 3   Booking Status                     150000 non-null  object \n",
      " 4   Customer ID                        150000 non-null  object \n",
      " 5   Vehicle Type                       150000 non-null  object \n",
      " 6   Pickup Location                    150000 non-null  object \n",
      " 7   Drop Location                      150000 non-null  object \n",
      " 8   Avg VTAT                           150000 non-null  float64\n",
      " 9   Cancelled Rides by Customer        150000 non-null  float64\n",
      " 10  Reason for cancelling by Customer  150000 non-null  object \n",
      " 11  Cancelled Rides by Driver          150000 non-null  float64\n",
      " 12  Driver Cancellation Reason         150000 non-null  object \n",
      " 13  Incomplete Rides                   150000 non-null  float64\n",
      " 14  Incomplete Rides Reason            150000 non-null  object \n",
      " 15  Ride Distance                      102000 non-null  float64\n",
      " 16  Driver Ratings                     93000 non-null   float64\n",
      " 17  Customer Rating                    93000 non-null   float64\n",
      " 18  Payment Method                     102000 non-null  object \n",
      "dtypes: float64(7), object(12)\n",
      "memory usage: 21.7+ MB\n"
     ]
    }
   ],
   "source": [
    "df = df.drop(['Booking Value'], axis=1)\n",
    "df.info()"
   ]
  },
  {
   "cell_type": "code",
   "execution_count": 481,
   "id": "f817de13-bf8e-4ea5-a17c-ee7ab0c02318",
   "metadata": {},
   "outputs": [],
   "source": [
    "#the column Booking Value has been removed"
   ]
  },
  {
   "cell_type": "code",
   "execution_count": 482,
   "id": "f501765e-e42b-4a2c-acb7-321cdfba8a0d",
   "metadata": {},
   "outputs": [
    {
     "data": {
      "text/plain": [
       "4901"
      ]
     },
     "execution_count": 482,
     "metadata": {},
     "output_type": "execute_result"
    }
   ],
   "source": [
    "#Ride Distance\n",
    "df['Ride Distance'].nunique()"
   ]
  },
  {
   "cell_type": "code",
   "execution_count": 483,
   "id": "3d6380fe-0941-4540-b4b6-869893a46882",
   "metadata": {},
   "outputs": [
    {
     "data": {
      "text/plain": [
       "np.int64(48000)"
      ]
     },
     "execution_count": 483,
     "metadata": {},
     "output_type": "execute_result"
    }
   ],
   "source": [
    "total_null_ride_distance = df['Ride Distance'].isna().sum()\n",
    "total_null_ride_distance"
   ]
  },
  {
   "cell_type": "code",
   "execution_count": 484,
   "id": "541ce891-4ba2-4e74-8498-d884e3f5f647",
   "metadata": {},
   "outputs": [
    {
     "data": {
      "text/plain": [
       "np.float64(32.0)"
      ]
     },
     "execution_count": 484,
     "metadata": {},
     "output_type": "execute_result"
    }
   ],
   "source": [
    "ride_distance_data_loss = (total_null_ride_distance/total_rows) * 100\n",
    "ride_distance_data_loss"
   ]
  },
  {
   "cell_type": "code",
   "execution_count": 485,
   "id": "76444b22-9bb1-487a-959d-9ff2071d0ed7",
   "metadata": {},
   "outputs": [],
   "source": [
    "#Ride Distance column will be dropped due to high percent of null values"
   ]
  },
  {
   "cell_type": "code",
   "execution_count": 486,
   "id": "3cae1c68-4462-43e9-8e0d-a30e2bffc644",
   "metadata": {},
   "outputs": [
    {
     "name": "stdout",
     "output_type": "stream",
     "text": [
      "<class 'pandas.core.frame.DataFrame'>\n",
      "RangeIndex: 150000 entries, 0 to 149999\n",
      "Data columns (total 18 columns):\n",
      " #   Column                             Non-Null Count   Dtype  \n",
      "---  ------                             --------------   -----  \n",
      " 0   Date                               150000 non-null  object \n",
      " 1   Time                               150000 non-null  object \n",
      " 2   Booking ID                         150000 non-null  object \n",
      " 3   Booking Status                     150000 non-null  object \n",
      " 4   Customer ID                        150000 non-null  object \n",
      " 5   Vehicle Type                       150000 non-null  object \n",
      " 6   Pickup Location                    150000 non-null  object \n",
      " 7   Drop Location                      150000 non-null  object \n",
      " 8   Avg VTAT                           150000 non-null  float64\n",
      " 9   Cancelled Rides by Customer        150000 non-null  float64\n",
      " 10  Reason for cancelling by Customer  150000 non-null  object \n",
      " 11  Cancelled Rides by Driver          150000 non-null  float64\n",
      " 12  Driver Cancellation Reason         150000 non-null  object \n",
      " 13  Incomplete Rides                   150000 non-null  float64\n",
      " 14  Incomplete Rides Reason            150000 non-null  object \n",
      " 15  Driver Ratings                     93000 non-null   float64\n",
      " 16  Customer Rating                    93000 non-null   float64\n",
      " 17  Payment Method                     102000 non-null  object \n",
      "dtypes: float64(6), object(12)\n",
      "memory usage: 20.6+ MB\n"
     ]
    }
   ],
   "source": [
    "df = df.drop(['Ride Distance'], axis=1)\n",
    "df.info()"
   ]
  },
  {
   "cell_type": "code",
   "execution_count": 487,
   "id": "6a74f734-8576-4b5f-ad92-c80fe06c3588",
   "metadata": {},
   "outputs": [
    {
     "data": {
      "text/plain": [
       "array([nan, 4.9, 4.6, 4.1, 4. , 4.4, 4.2, 4.7, 3.8, 5. , 3.7, 3.1, 4.5,\n",
       "       3.9, 4.3, 3.3, 3.2, 4.8, 3.6, 3.5, 3.4, 3. ])"
      ]
     },
     "execution_count": 487,
     "metadata": {},
     "output_type": "execute_result"
    }
   ],
   "source": [
    "#Driver Ratings\n",
    "df['Driver Ratings'].unique()"
   ]
  },
  {
   "cell_type": "code",
   "execution_count": 488,
   "id": "53c801f6-15b5-4cd9-a6ef-9c558fd1ed01",
   "metadata": {},
   "outputs": [
    {
     "data": {
      "text/plain": [
       "np.int64(57000)"
      ]
     },
     "execution_count": 488,
     "metadata": {},
     "output_type": "execute_result"
    }
   ],
   "source": [
    "total_null_driver_ratings = df['Driver Ratings'].isna().sum()\n",
    "total_null_driver_ratings"
   ]
  },
  {
   "cell_type": "code",
   "execution_count": 489,
   "id": "6dbc4850-7d40-4164-a883-0dd294ed95c8",
   "metadata": {},
   "outputs": [
    {
     "data": {
      "text/plain": [
       "np.float64(38.0)"
      ]
     },
     "execution_count": 489,
     "metadata": {},
     "output_type": "execute_result"
    }
   ],
   "source": [
    "driver_ratings_data_loss = (total_null_driver_ratings/total_rows) * 100\n",
    "driver_ratings_data_loss"
   ]
  },
  {
   "cell_type": "code",
   "execution_count": 490,
   "id": "ffde4c6f-fde1-4c77-8859-f9b02b1bde01",
   "metadata": {},
   "outputs": [],
   "source": [
    "#since 38% is really high percent of null values driver ratings column will also be dropped"
   ]
  },
  {
   "cell_type": "code",
   "execution_count": 491,
   "id": "317a7a74-f2a8-4760-93f0-a6e752e49325",
   "metadata": {},
   "outputs": [
    {
     "name": "stdout",
     "output_type": "stream",
     "text": [
      "<class 'pandas.core.frame.DataFrame'>\n",
      "RangeIndex: 150000 entries, 0 to 149999\n",
      "Data columns (total 17 columns):\n",
      " #   Column                             Non-Null Count   Dtype  \n",
      "---  ------                             --------------   -----  \n",
      " 0   Date                               150000 non-null  object \n",
      " 1   Time                               150000 non-null  object \n",
      " 2   Booking ID                         150000 non-null  object \n",
      " 3   Booking Status                     150000 non-null  object \n",
      " 4   Customer ID                        150000 non-null  object \n",
      " 5   Vehicle Type                       150000 non-null  object \n",
      " 6   Pickup Location                    150000 non-null  object \n",
      " 7   Drop Location                      150000 non-null  object \n",
      " 8   Avg VTAT                           150000 non-null  float64\n",
      " 9   Cancelled Rides by Customer        150000 non-null  float64\n",
      " 10  Reason for cancelling by Customer  150000 non-null  object \n",
      " 11  Cancelled Rides by Driver          150000 non-null  float64\n",
      " 12  Driver Cancellation Reason         150000 non-null  object \n",
      " 13  Incomplete Rides                   150000 non-null  float64\n",
      " 14  Incomplete Rides Reason            150000 non-null  object \n",
      " 15  Customer Rating                    93000 non-null   float64\n",
      " 16  Payment Method                     102000 non-null  object \n",
      "dtypes: float64(5), object(12)\n",
      "memory usage: 19.5+ MB\n"
     ]
    }
   ],
   "source": [
    "df = df.drop(['Driver Ratings'], axis=1)\n",
    "df.info()"
   ]
  },
  {
   "cell_type": "code",
   "execution_count": 492,
   "id": "da09e44e-1555-48c4-856e-547044ea90c2",
   "metadata": {},
   "outputs": [],
   "source": [
    "#the column Driver Ratings was dropped"
   ]
  },
  {
   "cell_type": "code",
   "execution_count": 493,
   "id": "b22319da-b743-430d-95b1-146756accbe1",
   "metadata": {},
   "outputs": [],
   "source": [
    "#Customer Rating"
   ]
  },
  {
   "cell_type": "code",
   "execution_count": 494,
   "id": "d9ffdf52-56d5-4192-8d12-c65d589e5e05",
   "metadata": {},
   "outputs": [
    {
     "data": {
      "text/plain": [
       "array([nan, 4.9, 5. , 4.3, 4.6, 4.1, 4.2, 4.7, 4.4, 3.6, 4.5, 3.3, 3.8,\n",
       "       3.7, 4.8, 3.9, 3.4, 3.2, 3.1, 4. , 3. , 3.5])"
      ]
     },
     "execution_count": 494,
     "metadata": {},
     "output_type": "execute_result"
    }
   ],
   "source": [
    "df['Customer Rating'].unique()"
   ]
  },
  {
   "cell_type": "code",
   "execution_count": 495,
   "id": "bdb128c9-b7d1-43ce-ba14-bb051a7d1c97",
   "metadata": {},
   "outputs": [
    {
     "data": {
      "text/plain": [
       "np.int64(57000)"
      ]
     },
     "execution_count": 495,
     "metadata": {},
     "output_type": "execute_result"
    }
   ],
   "source": [
    "total_null_customer_rating = df['Customer Rating'].isna().sum()\n",
    "total_null_customer_rating"
   ]
  },
  {
   "cell_type": "code",
   "execution_count": 496,
   "id": "49bf09a2-8dcf-4569-aa2d-ffd3b07066cb",
   "metadata": {},
   "outputs": [
    {
     "data": {
      "text/plain": [
       "np.float64(38.0)"
      ]
     },
     "execution_count": 496,
     "metadata": {},
     "output_type": "execute_result"
    }
   ],
   "source": [
    "customer_rating_data_loss = (total_null_customer_rating/total_rows) * 100\n",
    "customer_rating_data_loss"
   ]
  },
  {
   "cell_type": "code",
   "execution_count": 497,
   "id": "69309532-8f71-456b-a7f6-973900707713",
   "metadata": {},
   "outputs": [],
   "source": [
    "#38% null values are too high to replace so the entire column will be dropped"
   ]
  },
  {
   "cell_type": "code",
   "execution_count": 498,
   "id": "a89f2e8e-24cc-4934-a8bb-27e747386c22",
   "metadata": {},
   "outputs": [
    {
     "name": "stdout",
     "output_type": "stream",
     "text": [
      "<class 'pandas.core.frame.DataFrame'>\n",
      "RangeIndex: 150000 entries, 0 to 149999\n",
      "Data columns (total 16 columns):\n",
      " #   Column                             Non-Null Count   Dtype  \n",
      "---  ------                             --------------   -----  \n",
      " 0   Date                               150000 non-null  object \n",
      " 1   Time                               150000 non-null  object \n",
      " 2   Booking ID                         150000 non-null  object \n",
      " 3   Booking Status                     150000 non-null  object \n",
      " 4   Customer ID                        150000 non-null  object \n",
      " 5   Vehicle Type                       150000 non-null  object \n",
      " 6   Pickup Location                    150000 non-null  object \n",
      " 7   Drop Location                      150000 non-null  object \n",
      " 8   Avg VTAT                           150000 non-null  float64\n",
      " 9   Cancelled Rides by Customer        150000 non-null  float64\n",
      " 10  Reason for cancelling by Customer  150000 non-null  object \n",
      " 11  Cancelled Rides by Driver          150000 non-null  float64\n",
      " 12  Driver Cancellation Reason         150000 non-null  object \n",
      " 13  Incomplete Rides                   150000 non-null  float64\n",
      " 14  Incomplete Rides Reason            150000 non-null  object \n",
      " 15  Payment Method                     102000 non-null  object \n",
      "dtypes: float64(4), object(12)\n",
      "memory usage: 18.3+ MB\n"
     ]
    }
   ],
   "source": [
    "df = df.drop(['Customer Rating'], axis=1)\n",
    "df.info()"
   ]
  },
  {
   "cell_type": "code",
   "execution_count": 499,
   "id": "d014f022-9e12-4874-87eb-17bc903a6a70",
   "metadata": {},
   "outputs": [],
   "source": [
    "#the column Customer Rating was dropped"
   ]
  },
  {
   "cell_type": "code",
   "execution_count": 500,
   "id": "4d711505-efa7-482c-88dc-5af2f0cd5b92",
   "metadata": {},
   "outputs": [
    {
     "data": {
      "text/plain": [
       "array([nan, 'UPI', 'Debit Card', 'Cash', 'Uber Wallet', 'Credit Card'],\n",
       "      dtype=object)"
      ]
     },
     "execution_count": 500,
     "metadata": {},
     "output_type": "execute_result"
    }
   ],
   "source": [
    "#Payment Method\n",
    "df['Payment Method'].unique()"
   ]
  },
  {
   "cell_type": "code",
   "execution_count": 501,
   "id": "cf56baf1-e5b0-45da-9682-4ef56a612872",
   "metadata": {},
   "outputs": [
    {
     "name": "stdout",
     "output_type": "stream",
     "text": [
      "<class 'pandas.core.series.Series'>\n",
      "RangeIndex: 150000 entries, 0 to 149999\n",
      "Series name: Payment Method\n",
      "Non-Null Count   Dtype \n",
      "--------------   ----- \n",
      "150000 non-null  object\n",
      "dtypes: object(1)\n",
      "memory usage: 1.1+ MB\n"
     ]
    }
   ],
   "source": [
    "df['Payment Method'].fillna('Payment Method Unknown', inplace=True)\n",
    "df['Payment Method'].info()"
   ]
  },
  {
   "cell_type": "code",
   "execution_count": 502,
   "id": "71db400f-6ead-4cc5-8d30-17d7c586327d",
   "metadata": {},
   "outputs": [
    {
     "name": "stdout",
     "output_type": "stream",
     "text": [
      "<class 'pandas.core.frame.DataFrame'>\n",
      "RangeIndex: 150000 entries, 0 to 149999\n",
      "Data columns (total 16 columns):\n",
      " #   Column                             Non-Null Count   Dtype  \n",
      "---  ------                             --------------   -----  \n",
      " 0   Date                               150000 non-null  object \n",
      " 1   Time                               150000 non-null  object \n",
      " 2   Booking ID                         150000 non-null  object \n",
      " 3   Booking Status                     150000 non-null  object \n",
      " 4   Customer ID                        150000 non-null  object \n",
      " 5   Vehicle Type                       150000 non-null  object \n",
      " 6   Pickup Location                    150000 non-null  object \n",
      " 7   Drop Location                      150000 non-null  object \n",
      " 8   Avg VTAT                           150000 non-null  float64\n",
      " 9   Cancelled Rides by Customer        150000 non-null  float64\n",
      " 10  Reason for cancelling by Customer  150000 non-null  object \n",
      " 11  Cancelled Rides by Driver          150000 non-null  float64\n",
      " 12  Driver Cancellation Reason         150000 non-null  object \n",
      " 13  Incomplete Rides                   150000 non-null  float64\n",
      " 14  Incomplete Rides Reason            150000 non-null  object \n",
      " 15  Payment Method                     150000 non-null  object \n",
      "dtypes: float64(4), object(12)\n",
      "memory usage: 18.3+ MB\n"
     ]
    }
   ],
   "source": [
    "# Final Data Set after data cleaning:\n",
    "df.info()"
   ]
  },
  {
   "cell_type": "code",
   "execution_count": 503,
   "id": "642e5509-a3b2-4bcb-b36e-c45fb7f92fcc",
   "metadata": {},
   "outputs": [],
   "source": [
    "# no null values, irrelevant or disruptive columns removed"
   ]
  },
  {
   "cell_type": "code",
   "execution_count": 504,
   "id": "ab46eade-3fd7-4e7a-869b-38a87643d379",
   "metadata": {},
   "outputs": [
    {
     "data": {
      "text/html": [
       "<div>\n",
       "<style scoped>\n",
       "    .dataframe tbody tr th:only-of-type {\n",
       "        vertical-align: middle;\n",
       "    }\n",
       "\n",
       "    .dataframe tbody tr th {\n",
       "        vertical-align: top;\n",
       "    }\n",
       "\n",
       "    .dataframe thead th {\n",
       "        text-align: right;\n",
       "    }\n",
       "</style>\n",
       "<table border=\"1\" class=\"dataframe\">\n",
       "  <thead>\n",
       "    <tr style=\"text-align: right;\">\n",
       "      <th></th>\n",
       "      <th>Date</th>\n",
       "      <th>Time</th>\n",
       "      <th>Booking ID</th>\n",
       "      <th>Booking Status</th>\n",
       "      <th>Customer ID</th>\n",
       "      <th>Vehicle Type</th>\n",
       "      <th>Pickup Location</th>\n",
       "      <th>Drop Location</th>\n",
       "      <th>Avg VTAT</th>\n",
       "      <th>Cancelled Rides by Customer</th>\n",
       "      <th>Reason for cancelling by Customer</th>\n",
       "      <th>Cancelled Rides by Driver</th>\n",
       "      <th>Driver Cancellation Reason</th>\n",
       "      <th>Incomplete Rides</th>\n",
       "      <th>Incomplete Rides Reason</th>\n",
       "      <th>Payment Method</th>\n",
       "    </tr>\n",
       "  </thead>\n",
       "  <tbody>\n",
       "    <tr>\n",
       "      <th>65353</th>\n",
       "      <td>2024-07-11</td>\n",
       "      <td>19:41:39</td>\n",
       "      <td>\"CNR2107209\"</td>\n",
       "      <td>Incomplete</td>\n",
       "      <td>\"CID1463863\"</td>\n",
       "      <td>eBike</td>\n",
       "      <td>Sarai Kale Khan</td>\n",
       "      <td>Patel Chowk</td>\n",
       "      <td>3.1</td>\n",
       "      <td>0.0</td>\n",
       "      <td>no cancellation</td>\n",
       "      <td>0.0</td>\n",
       "      <td>no cancellation</td>\n",
       "      <td>1.0</td>\n",
       "      <td>Other Issue</td>\n",
       "      <td>Credit Card</td>\n",
       "    </tr>\n",
       "    <tr>\n",
       "      <th>88750</th>\n",
       "      <td>2024-03-12</td>\n",
       "      <td>18:01:56</td>\n",
       "      <td>\"CNR4910258\"</td>\n",
       "      <td>Completed</td>\n",
       "      <td>\"CID4429009\"</td>\n",
       "      <td>Go Sedan</td>\n",
       "      <td>Ashram</td>\n",
       "      <td>Yamuna Bank</td>\n",
       "      <td>12.1</td>\n",
       "      <td>0.0</td>\n",
       "      <td>no cancellation</td>\n",
       "      <td>0.0</td>\n",
       "      <td>no cancellation</td>\n",
       "      <td>0.0</td>\n",
       "      <td>Ride Completed</td>\n",
       "      <td>UPI</td>\n",
       "    </tr>\n",
       "    <tr>\n",
       "      <th>71718</th>\n",
       "      <td>2024-02-01</td>\n",
       "      <td>16:24:01</td>\n",
       "      <td>\"CNR6851195\"</td>\n",
       "      <td>Completed</td>\n",
       "      <td>\"CID4669087\"</td>\n",
       "      <td>Auto</td>\n",
       "      <td>Lok Kalyan Marg</td>\n",
       "      <td>Ashram</td>\n",
       "      <td>14.1</td>\n",
       "      <td>0.0</td>\n",
       "      <td>no cancellation</td>\n",
       "      <td>0.0</td>\n",
       "      <td>no cancellation</td>\n",
       "      <td>0.0</td>\n",
       "      <td>Ride Completed</td>\n",
       "      <td>UPI</td>\n",
       "    </tr>\n",
       "    <tr>\n",
       "      <th>79593</th>\n",
       "      <td>2024-10-23</td>\n",
       "      <td>15:31:42</td>\n",
       "      <td>\"CNR9636031\"</td>\n",
       "      <td>Incomplete</td>\n",
       "      <td>\"CID1169238\"</td>\n",
       "      <td>Auto</td>\n",
       "      <td>Bahadurgarh</td>\n",
       "      <td>India Gate</td>\n",
       "      <td>2.5</td>\n",
       "      <td>0.0</td>\n",
       "      <td>no cancellation</td>\n",
       "      <td>0.0</td>\n",
       "      <td>no cancellation</td>\n",
       "      <td>1.0</td>\n",
       "      <td>Vehicle Breakdown</td>\n",
       "      <td>UPI</td>\n",
       "    </tr>\n",
       "    <tr>\n",
       "      <th>70536</th>\n",
       "      <td>2024-01-26</td>\n",
       "      <td>00:32:32</td>\n",
       "      <td>\"CNR5928940\"</td>\n",
       "      <td>Completed</td>\n",
       "      <td>\"CID9081695\"</td>\n",
       "      <td>Premier Sedan</td>\n",
       "      <td>Badarpur</td>\n",
       "      <td>Chirag Delhi</td>\n",
       "      <td>12.3</td>\n",
       "      <td>0.0</td>\n",
       "      <td>no cancellation</td>\n",
       "      <td>0.0</td>\n",
       "      <td>no cancellation</td>\n",
       "      <td>0.0</td>\n",
       "      <td>Ride Completed</td>\n",
       "      <td>Cash</td>\n",
       "    </tr>\n",
       "  </tbody>\n",
       "</table>\n",
       "</div>"
      ],
      "text/plain": [
       "             Date      Time    Booking ID Booking Status   Customer ID  \\\n",
       "65353  2024-07-11  19:41:39  \"CNR2107209\"     Incomplete  \"CID1463863\"   \n",
       "88750  2024-03-12  18:01:56  \"CNR4910258\"      Completed  \"CID4429009\"   \n",
       "71718  2024-02-01  16:24:01  \"CNR6851195\"      Completed  \"CID4669087\"   \n",
       "79593  2024-10-23  15:31:42  \"CNR9636031\"     Incomplete  \"CID1169238\"   \n",
       "70536  2024-01-26  00:32:32  \"CNR5928940\"      Completed  \"CID9081695\"   \n",
       "\n",
       "        Vehicle Type  Pickup Location Drop Location  Avg VTAT  \\\n",
       "65353          eBike  Sarai Kale Khan   Patel Chowk       3.1   \n",
       "88750       Go Sedan           Ashram   Yamuna Bank      12.1   \n",
       "71718           Auto  Lok Kalyan Marg        Ashram      14.1   \n",
       "79593           Auto      Bahadurgarh    India Gate       2.5   \n",
       "70536  Premier Sedan         Badarpur  Chirag Delhi      12.3   \n",
       "\n",
       "       Cancelled Rides by Customer Reason for cancelling by Customer  \\\n",
       "65353                          0.0                   no cancellation   \n",
       "88750                          0.0                   no cancellation   \n",
       "71718                          0.0                   no cancellation   \n",
       "79593                          0.0                   no cancellation   \n",
       "70536                          0.0                   no cancellation   \n",
       "\n",
       "       Cancelled Rides by Driver Driver Cancellation Reason  Incomplete Rides  \\\n",
       "65353                        0.0            no cancellation               1.0   \n",
       "88750                        0.0            no cancellation               0.0   \n",
       "71718                        0.0            no cancellation               0.0   \n",
       "79593                        0.0            no cancellation               1.0   \n",
       "70536                        0.0            no cancellation               0.0   \n",
       "\n",
       "      Incomplete Rides Reason Payment Method  \n",
       "65353             Other Issue    Credit Card  \n",
       "88750          Ride Completed            UPI  \n",
       "71718          Ride Completed            UPI  \n",
       "79593       Vehicle Breakdown            UPI  \n",
       "70536          Ride Completed           Cash  "
      ]
     },
     "execution_count": 504,
     "metadata": {},
     "output_type": "execute_result"
    }
   ],
   "source": [
    "df.sample(5)"
   ]
  },
  {
   "cell_type": "markdown",
   "id": "990f2fb4-ebc2-4281-97fb-e2bf74ea85c9",
   "metadata": {},
   "source": [
    "Checking for Outliers in Avg VTAT"
   ]
  },
  {
   "cell_type": "code",
   "execution_count": 505,
   "id": "7ea5c354-6a81-4b2a-8757-b991749cb352",
   "metadata": {},
   "outputs": [
    {
     "data": {
      "image/png": "[encoded data removed]",
      "text/plain": [
       "<Figure size 700x500 with 1 Axes>"
      ]
     },
     "metadata": {},
     "output_type": "display_data"
    }
   ],
   "source": [
    "plt.figure(figsize=(7,5))\n",
    "sns.boxplot(x=df['Avg VTAT'])\n",
    "plt.show()"
   ]
  },
  {
   "cell_type": "code",
   "execution_count": 506,
   "id": "6d16dc6e-ac5d-4680-b0d9-a0e1ba34915b",
   "metadata": {},
   "outputs": [],
   "source": [
    "#to check for and remove any outliers, the following function will be used"
   ]
  },
  {
   "cell_type": "code",
   "execution_count": 507,
   "id": "82edcf53-60aa-4e91-aa1f-22df5366851b",
   "metadata": {},
   "outputs": [],
   "source": [
    "def outlier_remover(df_column):\n",
    "    Q1 = np.percentile(df_column, 25)\n",
    "    Q3 = np.percentile(df_column, 75)\n",
    "\n",
    "    IQR = Q3 - Q1\n",
    "\n",
    "    lower_bound = Q1 - (1.5 * IQR)\n",
    "    upper_bound = Q3 + (1.5 * IQR)\n",
    "\n",
    "    return lower_bound, upper_bound\n",
    "\n",
    "\n",
    "\n",
    "#function finds the lower and upper bound for given column in a data set"
   ]
  },
  {
   "cell_type": "code",
   "execution_count": 508,
   "id": "e7b8c1b8-b575-4f8c-a0fa-d83aad7a9c8f",
   "metadata": {},
   "outputs": [
    {
     "data": {
      "text/plain": [
       "(np.float64(-2.5000000000000018), np.float64(19.1))"
      ]
     },
     "execution_count": 508,
     "metadata": {},
     "output_type": "execute_result"
    }
   ],
   "source": [
    "df_lb, df_ub = outlier_remover(df['Avg VTAT'])\n",
    "df_lb, df_ub\n",
    "\n",
    "#finding the lower and upper bound of Avg VTAT"
   ]
  },
  {
   "cell_type": "code",
   "execution_count": 509,
   "id": "4e3e6d61-2b58-48a2-9aba-9959aed4e8d8",
   "metadata": {},
   "outputs": [],
   "source": [
    "df = df[(df['Avg VTAT'] > df_lb) & (df['Avg VTAT'] < df_ub)]\n",
    "\n",
    "#removing the outliers from the Avg VTAT column"
   ]
  },
  {
   "cell_type": "code",
   "execution_count": 510,
   "id": "f6247c45-6697-4cb5-aa50-24148b2f650b",
   "metadata": {},
   "outputs": [
    {
     "data": {
      "image/png": "[encoded data removed]",
      "text/plain": [
       "<Figure size 700x500 with 1 Axes>"
      ]
     },
     "metadata": {},
     "output_type": "display_data"
    }
   ],
   "source": [
    "plt.figure(figsize=(7,5))\n",
    "sns.boxplot(x=df['Avg VTAT'])\n",
    "plt.show()"
   ]
  },
  {
   "cell_type": "code",
   "execution_count": 511,
   "id": "7e6a0c10-3bd6-4784-8c29-98d12b8cb120",
   "metadata": {},
   "outputs": [],
   "source": [
    "# new boxplot of Avt VTAT shows the outliers removed and the column is ready for exploration"
   ]
  },
  {
   "cell_type": "code",
   "execution_count": 512,
   "id": "7b064842-ad72-47f5-a729-6e250b25a68c",
   "metadata": {},
   "outputs": [
    {
     "name": "stdout",
     "output_type": "stream",
     "text": [
      "<class 'pandas.core.frame.DataFrame'>\n",
      "Index: 149310 entries, 0 to 149999\n",
      "Data columns (total 16 columns):\n",
      " #   Column                             Non-Null Count   Dtype  \n",
      "---  ------                             --------------   -----  \n",
      " 0   Date                               149310 non-null  object \n",
      " 1   Time                               149310 non-null  object \n",
      " 2   Booking ID                         149310 non-null  object \n",
      " 3   Booking Status                     149310 non-null  object \n",
      " 4   Customer ID                        149310 non-null  object \n",
      " 5   Vehicle Type                       149310 non-null  object \n",
      " 6   Pickup Location                    149310 non-null  object \n",
      " 7   Drop Location                      149310 non-null  object \n",
      " 8   Avg VTAT                           149310 non-null  float64\n",
      " 9   Cancelled Rides by Customer        149310 non-null  float64\n",
      " 10  Reason for cancelling by Customer  149310 non-null  object \n",
      " 11  Cancelled Rides by Driver          149310 non-null  float64\n",
      " 12  Driver Cancellation Reason         149310 non-null  object \n",
      " 13  Incomplete Rides                   149310 non-null  float64\n",
      " 14  Incomplete Rides Reason            149310 non-null  object \n",
      " 15  Payment Method                     149310 non-null  object \n",
      "dtypes: float64(4), object(12)\n",
      "memory usage: 19.4+ MB\n"
     ]
    }
   ],
   "source": [
    "df.info()"
   ]
  },
  {
   "cell_type": "code",
   "execution_count": 513,
   "id": "9a89fa60-08fd-49be-9730-9008c658cf84",
   "metadata": {},
   "outputs": [],
   "source": [
    "# time and rides, date and rides, incomplete rides "
   ]
  },
  {
   "cell_type": "markdown",
   "id": "bd056315-f8f1-4691-a5f2-611e16f640af",
   "metadata": {},
   "source": [
    "***Exploratory Data Analysis***"
   ]
  },
  {
   "cell_type": "code",
   "execution_count": 517,
   "id": "c4e39d77-4b4f-4572-a2dd-667bc241dd51",
   "metadata": {},
   "outputs": [
    {
     "data": {
      "text/html": [
       "<div>\n",
       "<style scoped>\n",
       "    .dataframe tbody tr th:only-of-type {\n",
       "        vertical-align: middle;\n",
       "    }\n",
       "\n",
       "    .dataframe tbody tr th {\n",
       "        vertical-align: top;\n",
       "    }\n",
       "\n",
       "    .dataframe thead th {\n",
       "        text-align: right;\n",
       "    }\n",
       "</style>\n",
       "<table border=\"1\" class=\"dataframe\">\n",
       "  <thead>\n",
       "    <tr style=\"text-align: right;\">\n",
       "      <th></th>\n",
       "      <th>Date</th>\n",
       "      <th>Time</th>\n",
       "      <th>Booking ID</th>\n",
       "      <th>Booking Status</th>\n",
       "      <th>Customer ID</th>\n",
       "      <th>Vehicle Type</th>\n",
       "      <th>Pickup Location</th>\n",
       "      <th>Drop Location</th>\n",
       "      <th>Avg VTAT</th>\n",
       "      <th>Cancelled Rides by Customer</th>\n",
       "      <th>Reason for cancelling by Customer</th>\n",
       "      <th>Cancelled Rides by Driver</th>\n",
       "      <th>Driver Cancellation Reason</th>\n",
       "      <th>Incomplete Rides</th>\n",
       "      <th>Incomplete Rides Reason</th>\n",
       "      <th>Payment Method</th>\n",
       "      <th>Date-Time</th>\n",
       "    </tr>\n",
       "  </thead>\n",
       "  <tbody>\n",
       "    <tr>\n",
       "      <th>0</th>\n",
       "      <td>2024-03-23</td>\n",
       "      <td>12:29:38</td>\n",
       "      <td>\"CNR5884300\"</td>\n",
       "      <td>No Driver Found</td>\n",
       "      <td>\"CID1982111\"</td>\n",
       "      <td>eBike</td>\n",
       "      <td>Palam Vihar</td>\n",
       "      <td>Jhilmil</td>\n",
       "      <td>8.456352</td>\n",
       "      <td>0.0</td>\n",
       "      <td>no cancellation</td>\n",
       "      <td>0.0</td>\n",
       "      <td>no cancellation</td>\n",
       "      <td>0.0</td>\n",
       "      <td>Ride Completed</td>\n",
       "      <td>Payment Method Unknown</td>\n",
       "      <td>2024-03-23 12:29:38</td>\n",
       "    </tr>\n",
       "    <tr>\n",
       "      <th>1</th>\n",
       "      <td>2024-11-29</td>\n",
       "      <td>18:01:39</td>\n",
       "      <td>\"CNR1326809\"</td>\n",
       "      <td>Incomplete</td>\n",
       "      <td>\"CID4604802\"</td>\n",
       "      <td>Go Sedan</td>\n",
       "      <td>Shastri Nagar</td>\n",
       "      <td>Gurgaon Sector 56</td>\n",
       "      <td>4.900000</td>\n",
       "      <td>0.0</td>\n",
       "      <td>no cancellation</td>\n",
       "      <td>0.0</td>\n",
       "      <td>no cancellation</td>\n",
       "      <td>1.0</td>\n",
       "      <td>Vehicle Breakdown</td>\n",
       "      <td>UPI</td>\n",
       "      <td>2024-11-29 18:01:39</td>\n",
       "    </tr>\n",
       "    <tr>\n",
       "      <th>2</th>\n",
       "      <td>2024-08-23</td>\n",
       "      <td>08:56:10</td>\n",
       "      <td>\"CNR8494506\"</td>\n",
       "      <td>Completed</td>\n",
       "      <td>\"CID9202816\"</td>\n",
       "      <td>Auto</td>\n",
       "      <td>Khandsa</td>\n",
       "      <td>Malviya Nagar</td>\n",
       "      <td>13.400000</td>\n",
       "      <td>0.0</td>\n",
       "      <td>no cancellation</td>\n",
       "      <td>0.0</td>\n",
       "      <td>no cancellation</td>\n",
       "      <td>0.0</td>\n",
       "      <td>Ride Completed</td>\n",
       "      <td>Debit Card</td>\n",
       "      <td>2024-08-23 08:56:10</td>\n",
       "    </tr>\n",
       "    <tr>\n",
       "      <th>3</th>\n",
       "      <td>2024-10-21</td>\n",
       "      <td>17:17:25</td>\n",
       "      <td>\"CNR8906825\"</td>\n",
       "      <td>Completed</td>\n",
       "      <td>\"CID2610914\"</td>\n",
       "      <td>Premier Sedan</td>\n",
       "      <td>Central Secretariat</td>\n",
       "      <td>Inderlok</td>\n",
       "      <td>13.100000</td>\n",
       "      <td>0.0</td>\n",
       "      <td>no cancellation</td>\n",
       "      <td>0.0</td>\n",
       "      <td>no cancellation</td>\n",
       "      <td>0.0</td>\n",
       "      <td>Ride Completed</td>\n",
       "      <td>UPI</td>\n",
       "      <td>2024-10-21 17:17:25</td>\n",
       "    </tr>\n",
       "    <tr>\n",
       "      <th>4</th>\n",
       "      <td>2024-09-16</td>\n",
       "      <td>22:08:00</td>\n",
       "      <td>\"CNR1950162\"</td>\n",
       "      <td>Completed</td>\n",
       "      <td>\"CID9933542\"</td>\n",
       "      <td>Bike</td>\n",
       "      <td>Ghitorni Village</td>\n",
       "      <td>Khan Market</td>\n",
       "      <td>5.300000</td>\n",
       "      <td>0.0</td>\n",
       "      <td>no cancellation</td>\n",
       "      <td>0.0</td>\n",
       "      <td>no cancellation</td>\n",
       "      <td>0.0</td>\n",
       "      <td>Ride Completed</td>\n",
       "      <td>UPI</td>\n",
       "      <td>2024-09-16 22:08:00</td>\n",
       "    </tr>\n",
       "  </tbody>\n",
       "</table>\n",
       "</div>"
      ],
      "text/plain": [
       "         Date      Time    Booking ID   Booking Status   Customer ID  \\\n",
       "0  2024-03-23  12:29:38  \"CNR5884300\"  No Driver Found  \"CID1982111\"   \n",
       "1  2024-11-29  18:01:39  \"CNR1326809\"       Incomplete  \"CID4604802\"   \n",
       "2  2024-08-23  08:56:10  \"CNR8494506\"        Completed  \"CID9202816\"   \n",
       "3  2024-10-21  17:17:25  \"CNR8906825\"        Completed  \"CID2610914\"   \n",
       "4  2024-09-16  22:08:00  \"CNR1950162\"        Completed  \"CID9933542\"   \n",
       "\n",
       "    Vehicle Type      Pickup Location      Drop Location   Avg VTAT  \\\n",
       "0          eBike          Palam Vihar            Jhilmil   8.456352   \n",
       "1       Go Sedan        Shastri Nagar  Gurgaon Sector 56   4.900000   \n",
       "2           Auto              Khandsa      Malviya Nagar  13.400000   \n",
       "3  Premier Sedan  Central Secretariat           Inderlok  13.100000   \n",
       "4           Bike     Ghitorni Village        Khan Market   5.300000   \n",
       "\n",
       "   Cancelled Rides by Customer Reason for cancelling by Customer  \\\n",
       "0                          0.0                   no cancellation   \n",
       "1                          0.0                   no cancellation   \n",
       "2                          0.0                   no cancellation   \n",
       "3                          0.0                   no cancellation   \n",
       "4                          0.0                   no cancellation   \n",
       "\n",
       "   Cancelled Rides by Driver Driver Cancellation Reason  Incomplete Rides  \\\n",
       "0                        0.0            no cancellation               0.0   \n",
       "1                        0.0            no cancellation               1.0   \n",
       "2                        0.0            no cancellation               0.0   \n",
       "3                        0.0            no cancellation               0.0   \n",
       "4                        0.0            no cancellation               0.0   \n",
       "\n",
       "  Incomplete Rides Reason          Payment Method           Date-Time  \n",
       "0          Ride Completed  Payment Method Unknown 2024-03-23 12:29:38  \n",
       "1       Vehicle Breakdown                     UPI 2024-11-29 18:01:39  \n",
       "2          Ride Completed              Debit Card 2024-08-23 08:56:10  \n",
       "3          Ride Completed                     UPI 2024-10-21 17:17:25  \n",
       "4          Ride Completed                     UPI 2024-09-16 22:08:00  "
      ]
     },
     "execution_count": 517,
     "metadata": {},
     "output_type": "execute_result"
    }
   ],
   "source": [
    "# Combining Date and Time to extract hours and days frequencies\n",
    "\n",
    "df['Date-Time'] = pd.to_datetime(df['Date'] + ' ' + df['Time'], errors='coerce')\n",
    "\n",
    "df.head()"
   ]
  },
  {
   "cell_type": "code",
   "execution_count": 519,
   "id": "3a1d1fbd-77b7-4575-9fdb-408bb07b895e",
   "metadata": {},
   "outputs": [
    {
     "data": {
      "text/html": [
       "<div>\n",
       "<style scoped>\n",
       "    .dataframe tbody tr th:only-of-type {\n",
       "        vertical-align: middle;\n",
       "    }\n",
       "\n",
       "    .dataframe tbody tr th {\n",
       "        vertical-align: top;\n",
       "    }\n",
       "\n",
       "    .dataframe thead th {\n",
       "        text-align: right;\n",
       "    }\n",
       "</style>\n",
       "<table border=\"1\" class=\"dataframe\">\n",
       "  <thead>\n",
       "    <tr style=\"text-align: right;\">\n",
       "      <th></th>\n",
       "      <th>Date</th>\n",
       "      <th>Time</th>\n",
       "      <th>Booking ID</th>\n",
       "      <th>Booking Status</th>\n",
       "      <th>Customer ID</th>\n",
       "      <th>Vehicle Type</th>\n",
       "      <th>Pickup Location</th>\n",
       "      <th>Drop Location</th>\n",
       "      <th>Avg VTAT</th>\n",
       "      <th>Cancelled Rides by Customer</th>\n",
       "      <th>Reason for cancelling by Customer</th>\n",
       "      <th>Cancelled Rides by Driver</th>\n",
       "      <th>Driver Cancellation Reason</th>\n",
       "      <th>Incomplete Rides</th>\n",
       "      <th>Incomplete Rides Reason</th>\n",
       "      <th>Payment Method</th>\n",
       "      <th>Date-Time</th>\n",
       "      <th>Hours</th>\n",
       "      <th>Weekdays</th>\n",
       "    </tr>\n",
       "  </thead>\n",
       "  <tbody>\n",
       "    <tr>\n",
       "      <th>0</th>\n",
       "      <td>2024-03-23</td>\n",
       "      <td>12:29:38</td>\n",
       "      <td>\"CNR5884300\"</td>\n",
       "      <td>No Driver Found</td>\n",
       "      <td>\"CID1982111\"</td>\n",
       "      <td>eBike</td>\n",
       "      <td>Palam Vihar</td>\n",
       "      <td>Jhilmil</td>\n",
       "      <td>8.456352</td>\n",
       "      <td>0.0</td>\n",
       "      <td>no cancellation</td>\n",
       "      <td>0.0</td>\n",
       "      <td>no cancellation</td>\n",
       "      <td>0.0</td>\n",
       "      <td>Ride Completed</td>\n",
       "      <td>Payment Method Unknown</td>\n",
       "      <td>2024-03-23 12:29:38</td>\n",
       "      <td>12</td>\n",
       "      <td>Saturday</td>\n",
       "    </tr>\n",
       "    <tr>\n",
       "      <th>1</th>\n",
       "      <td>2024-11-29</td>\n",
       "      <td>18:01:39</td>\n",
       "      <td>\"CNR1326809\"</td>\n",
       "      <td>Incomplete</td>\n",
       "      <td>\"CID4604802\"</td>\n",
       "      <td>Go Sedan</td>\n",
       "      <td>Shastri Nagar</td>\n",
       "      <td>Gurgaon Sector 56</td>\n",
       "      <td>4.900000</td>\n",
       "      <td>0.0</td>\n",
       "      <td>no cancellation</td>\n",
       "      <td>0.0</td>\n",
       "      <td>no cancellation</td>\n",
       "      <td>1.0</td>\n",
       "      <td>Vehicle Breakdown</td>\n",
       "      <td>UPI</td>\n",
       "      <td>2024-11-29 18:01:39</td>\n",
       "      <td>18</td>\n",
       "      <td>Friday</td>\n",
       "    </tr>\n",
       "    <tr>\n",
       "      <th>2</th>\n",
       "      <td>2024-08-23</td>\n",
       "      <td>08:56:10</td>\n",
       "      <td>\"CNR8494506\"</td>\n",
       "      <td>Completed</td>\n",
       "      <td>\"CID9202816\"</td>\n",
       "      <td>Auto</td>\n",
       "      <td>Khandsa</td>\n",
       "      <td>Malviya Nagar</td>\n",
       "      <td>13.400000</td>\n",
       "      <td>0.0</td>\n",
       "      <td>no cancellation</td>\n",
       "      <td>0.0</td>\n",
       "      <td>no cancellation</td>\n",
       "      <td>0.0</td>\n",
       "      <td>Ride Completed</td>\n",
       "      <td>Debit Card</td>\n",
       "      <td>2024-08-23 08:56:10</td>\n",
       "      <td>8</td>\n",
       "      <td>Friday</td>\n",
       "    </tr>\n",
       "    <tr>\n",
       "      <th>3</th>\n",
       "      <td>2024-10-21</td>\n",
       "      <td>17:17:25</td>\n",
       "      <td>\"CNR8906825\"</td>\n",
       "      <td>Completed</td>\n",
       "      <td>\"CID2610914\"</td>\n",
       "      <td>Premier Sedan</td>\n",
       "      <td>Central Secretariat</td>\n",
       "      <td>Inderlok</td>\n",
       "      <td>13.100000</td>\n",
       "      <td>0.0</td>\n",
       "      <td>no cancellation</td>\n",
       "      <td>0.0</td>\n",
       "      <td>no cancellation</td>\n",
       "      <td>0.0</td>\n",
       "      <td>Ride Completed</td>\n",
       "      <td>UPI</td>\n",
       "      <td>2024-10-21 17:17:25</td>\n",
       "      <td>17</td>\n",
       "      <td>Monday</td>\n",
       "    </tr>\n",
       "    <tr>\n",
       "      <th>4</th>\n",
       "      <td>2024-09-16</td>\n",
       "      <td>22:08:00</td>\n",
       "      <td>\"CNR1950162\"</td>\n",
       "      <td>Completed</td>\n",
       "      <td>\"CID9933542\"</td>\n",
       "      <td>Bike</td>\n",
       "      <td>Ghitorni Village</td>\n",
       "      <td>Khan Market</td>\n",
       "      <td>5.300000</td>\n",
       "      <td>0.0</td>\n",
       "      <td>no cancellation</td>\n",
       "      <td>0.0</td>\n",
       "      <td>no cancellation</td>\n",
       "      <td>0.0</td>\n",
       "      <td>Ride Completed</td>\n",
       "      <td>UPI</td>\n",
       "      <td>2024-09-16 22:08:00</td>\n",
       "      <td>22</td>\n",
       "      <td>Monday</td>\n",
       "    </tr>\n",
       "  </tbody>\n",
       "</table>\n",
       "</div>"
      ],
      "text/plain": [
       "         Date      Time    Booking ID   Booking Status   Customer ID  \\\n",
       "0  2024-03-23  12:29:38  \"CNR5884300\"  No Driver Found  \"CID1982111\"   \n",
       "1  2024-11-29  18:01:39  \"CNR1326809\"       Incomplete  \"CID4604802\"   \n",
       "2  2024-08-23  08:56:10  \"CNR8494506\"        Completed  \"CID9202816\"   \n",
       "3  2024-10-21  17:17:25  \"CNR8906825\"        Completed  \"CID2610914\"   \n",
       "4  2024-09-16  22:08:00  \"CNR1950162\"        Completed  \"CID9933542\"   \n",
       "\n",
       "    Vehicle Type      Pickup Location      Drop Location   Avg VTAT  \\\n",
       "0          eBike          Palam Vihar            Jhilmil   8.456352   \n",
       "1       Go Sedan        Shastri Nagar  Gurgaon Sector 56   4.900000   \n",
       "2           Auto              Khandsa      Malviya Nagar  13.400000   \n",
       "3  Premier Sedan  Central Secretariat           Inderlok  13.100000   \n",
       "4           Bike     Ghitorni Village        Khan Market   5.300000   \n",
       "\n",
       "   Cancelled Rides by Customer Reason for cancelling by Customer  \\\n",
       "0                          0.0                   no cancellation   \n",
       "1                          0.0                   no cancellation   \n",
       "2                          0.0                   no cancellation   \n",
       "3                          0.0                   no cancellation   \n",
       "4                          0.0                   no cancellation   \n",
       "\n",
       "   Cancelled Rides by Driver Driver Cancellation Reason  Incomplete Rides  \\\n",
       "0                        0.0            no cancellation               0.0   \n",
       "1                        0.0            no cancellation               1.0   \n",
       "2                        0.0            no cancellation               0.0   \n",
       "3                        0.0            no cancellation               0.0   \n",
       "4                        0.0            no cancellation               0.0   \n",
       "\n",
       "  Incomplete Rides Reason          Payment Method           Date-Time  Hours  \\\n",
       "0          Ride Completed  Payment Method Unknown 2024-03-23 12:29:38     12   \n",
       "1       Vehicle Breakdown                     UPI 2024-11-29 18:01:39     18   \n",
       "2          Ride Completed              Debit Card 2024-08-23 08:56:10      8   \n",
       "3          Ride Completed                     UPI 2024-10-21 17:17:25     17   \n",
       "4          Ride Completed                     UPI 2024-09-16 22:08:00     22   \n",
       "\n",
       "   Weekdays  \n",
       "0  Saturday  \n",
       "1    Friday  \n",
       "2    Friday  \n",
       "3    Monday  \n",
       "4    Monday  "
      ]
     },
     "execution_count": 519,
     "metadata": {},
     "output_type": "execute_result"
    }
   ],
   "source": [
    "# Getting the Hours and Weekdays\n",
    "\n",
    "df['Hours'] = df['Date-Time'].dt.hour\n",
    "df['Weekdays'] = df['Date-Time'].dt.day_name()\n",
    "df.head()"
   ]
  },
  {
   "cell_type": "code",
   "execution_count": 538,
   "id": "fa7aab19-e784-495a-a13a-0a01ddd57918",
   "metadata": {},
   "outputs": [],
   "source": [
    "#grouped_hours = df.groupby('Hours').count()\n",
    "#grouped_week_days = df.groupby('Weekdays').count()"
   ]
  },
  {
   "cell_type": "code",
   "execution_count": 539,
   "id": "571c3776-c520-4686-8648-bb484723e8ea",
   "metadata": {},
   "outputs": [
    {
     "data": {
      "image/png": "[encoded data removed]",
      "text/plain": [
       "<Figure size 700x700 with 1 Axes>"
      ]
     },
     "metadata": {},
     "output_type": "display_data"
    }
   ],
   "source": [
    "#Rides by Hour\n",
    "\n",
    "plt.figure(figsize=(7,7))\n",
    "sns.histplot(df['Hours'], bins= 24, kde=True, color='lightblue')\n",
    "plt.title('Total Rides by the Hours')\n",
    "plt.xlabel('Hours')\n",
    "plt.ylabel('Number of Rides')\n",
    "plt.show()"
   ]
  },
  {
   "cell_type": "code",
   "execution_count": 540,
   "id": "8e9607f3-cd32-45ac-8108-158d2411fb89",
   "metadata": {},
   "outputs": [],
   "source": [
    "# based on this histogram plot, the 18th hour gets the most rides in a day while 10th hour gets the second most (6:00 pm and 10:00 am)"
   ]
  },
  {
   "cell_type": "code",
   "execution_count": 541,
   "id": "594c0bd4-005e-4590-8b96-3222bef3ba79",
   "metadata": {},
   "outputs": [
    {
     "data": {
      "image/png": "[encoded data removed]",
      "text/plain": [
       "<Figure size 700x700 with 1 Axes>"
      ]
     },
     "metadata": {},
     "output_type": "display_data"
    }
   ],
   "source": [
    "# Rides by Days of the Week\n",
    "\n",
    "plt.figure(figsize=(7,7))\n",
    "sns.histplot(df['Weekdays'], bins= 7, kde=True, color='pink')\n",
    "plt.title('Total Rides by Days of the Week')\n",
    "plt.xlabel('Days')\n",
    "plt.ylabel('Number of Rides')\n",
    "plt.show()"
   ]
  },
  {
   "cell_type": "code",
   "execution_count": 542,
   "id": "5fb2fa16-fe30-4925-89b6-feeb1719a8ab",
   "metadata": {},
   "outputs": [],
   "source": [
    "# based on this histogram, the days of the week get approximately same number of rides each day with no significant difference"
   ]
  },
  {
   "cell_type": "code",
   "execution_count": 556,
   "id": "c60e7b34-4e24-4bbd-b7a9-a730221264b0",
   "metadata": {},
   "outputs": [
    {
     "data": {
      "image/png": "[encoded data removed]",
      "text/plain": [
       "<Figure size 800x800 with 1 Axes>"
      ]
     },
     "metadata": {},
     "output_type": "display_data"
    }
   ],
   "source": [
    "# Vehicle type and Customer Cancelation\n",
    "\n",
    "vehicle_counts = df['Vehicle Type'].value_counts()\n",
    "\n",
    "plt.figure(figsize=(8,8))\n",
    "plt.pie(vehicle_counts, labels=vehicle_counts.index, autopct='%1.1f%%') \n",
    "plt.show()"
   ]
  },
  {
   "cell_type": "code",
   "execution_count": null,
   "id": "40adf9dc-b351-4627-b3bd-273a2840e2b6",
   "metadata": {},
   "outputs": [],
   "source": [
    "# From this pie chart, we can see the Auto is the most used vehicle in rides followed by the Go Mini and Go Sedan\n",
    "# Now we can see how the different vehicle types compare to incomplete rides and cancelations"
   ]
  },
  {
   "cell_type": "code",
   "execution_count": 592,
   "id": "422312fc-6d8e-48ef-be92-9c599215797a",
   "metadata": {},
   "outputs": [
    {
     "data": {
      "image/png": "[encoded data removed]",
      "text/plain": [
       "<Figure size 1000x700 with 1 Axes>"
      ]
     },
     "metadata": {},
     "output_type": "display_data"
    }
   ],
   "source": [
    "# Incomplete Rides by Vehicle Types\n",
    "\n",
    "#I want to find the incomplete rides (1 means incomplete 0 means complete) for each vehicle type\n",
    "\n",
    "completion_counts = df.groupby(['Vehicle Type','Incomplete Rides']).size().reset_index(name='count')\n",
    "\n",
    "plt.figure(figsize=(10,7))\n",
    "ax = sns.barplot(x='Vehicle Type', y='count', hue='Incomplete Rides', data=completion_counts, palette='coolwarm')\n",
    "plt.title('Ride Completion by Vehicle Type')\n",
    "plt.ylabel('Number of Complete and Incomplete Rides')\n",
    "\n",
    "#add labels to the bars\n",
    "\n",
    "for con in ax.containers:\n",
    "    ax.bar_label(con, fmt='%d')\n",
    "\n",
    "plt.show()\n",
    "\n",
    "#df.groupby(['Vehicle Type','Incomplete Rides']).size()\n",
    "#counts displayed"
   ]
  },
  {
   "cell_type": "code",
   "execution_count": 574,
   "id": "c0ad9d94-46dc-4a91-9f56-8c88212a4b83",
   "metadata": {},
   "outputs": [],
   "source": [
    "# From visually looking at the bar plot we see that Uber XL has the lowest cancellations however it also has the lowest bookings\n",
    "# Most vehicle types seems to have low incomplete rides, therefore it is difficult to spot a clear distingtion on whether the vehicle type causes more cancellations"
   ]
  },
  {
   "cell_type": "code",
   "execution_count": 595,
   "id": "e003cc76-b258-4c09-a4ec-f3d6386a34ea",
   "metadata": {},
   "outputs": [
    {
     "data": {
      "image/png": "[encoded data removed]",
      "text/plain": [
       "<Figure size 1000x700 with 1 Axes>"
      ]
     },
     "metadata": {},
     "output_type": "display_data"
    }
   ],
   "source": [
    "# Customer Cancellation by Vehicle Type\n",
    "\n",
    "cancellation_counts = df.groupby(['Vehicle Type','Cancelled Rides by Customer']).size().reset_index(name='count')\n",
    "\n",
    "plt.figure(figsize=(10,7))\n",
    "ax = sns.barplot(x='Vehicle Type', y='count', hue='Cancelled Rides by Customer', data=cancellation_counts, palette='mako')\n",
    "plt.title('Customer Cancellations by Vehicle Type')\n",
    "plt.ylabel('Number of Complete and Cancelled Rides')\n",
    "\n",
    "for con in ax.containers:\n",
    "    ax.bar_label(con, fmt='%d')\n",
    "\n",
    "plt.show()\n",
    "\n",
    "#df.groupby(['Vehicle Type','Cancelled Rides by Customer']).size()\n",
    "#counts displayed"
   ]
  },
  {
   "cell_type": "code",
   "execution_count": 597,
   "id": "0b81b75b-91f8-4e7f-a9d2-64a3f21d0896",
   "metadata": {},
   "outputs": [],
   "source": [
    "# Similar to the incomplete rides, it is difficult to spot a correlation visually between the vehicle types\n",
    "# the plots appear to show that there is no relation between customer cancellation/incompletion and vehicle types"
   ]
  },
  {
   "cell_type": "markdown",
   "id": "e30a56ff-34ec-4267-bc22-a486dab64851",
   "metadata": {},
   "source": [
    "Inferential Statistics"
   ]
  },
  {
   "cell_type": "code",
   "execution_count": null,
   "id": "0b87d45e-c9b4-4db7-90e1-3a79f7e67245",
   "metadata": {},
   "outputs": [],
   "source": [
    "# Question: Is there a significant difference between the customer cancellations and driver cancellations?"
   ]
  },
  {
   "cell_type": "code",
   "execution_count": null,
   "id": "328469fe-ed9d-4b63-9355-8b9c10abd5fe",
   "metadata": {},
   "outputs": [],
   "source": [
    "# Null Hypothesis (H0): There is no significant difference between the customer cancellations and driver cancellations."
   ]
  },
  {
   "cell_type": "code",
   "execution_count": 630,
   "id": "d2f521c9-d9f0-477b-ba57-a7ca7b8f8c51",
   "metadata": {},
   "outputs": [
    {
     "name": "stdout",
     "output_type": "stream",
     "text": [
      "Contingency Table:\n",
      "Cancelled Rides by Driver       0.0    1.0\n",
      "Cancelled Rides by Customer               \n",
      "0.0                          112500  27000\n",
      "1.0                            9810      0\n",
      "\n",
      "\n",
      "Chi2 Stat: 2316.544473817287\n",
      "p-value: 0.0\n",
      "Degrees of Freedom: 1\n"
     ]
    }
   ],
   "source": [
    "from scipy.stats import chi2_contingency\n",
    "\n",
    "#contingency table: compares relationship between 2 categories\n",
    "#shows count of observations for 2 categorical variables\n",
    "\n",
    "#significance_level = 0.05\n",
    "\n",
    "contingency_table = pd.crosstab(df['Cancelled Rides by Customer'],df['Cancelled Rides by Driver'])\n",
    "\n",
    "chi2_stat, p_value, dof, expected = chi2_contingency(contingency_table)\n",
    "#dof = (row-1)*(col-1)\n",
    "\n",
    "\n",
    "print('Contingency Table:')\n",
    "print(contingency_table)\n",
    "\n",
    "print()\n",
    "print('\\nChi2 Stat:', chi2_stat)\n",
    "print('p-value:', p_value)\n",
    "print('Degrees of Freedom:', dof)"
   ]
  },
  {
   "cell_type": "code",
   "execution_count": 648,
   "id": "3aee0009-bd45-45c6-b780-3180cc317cf9",
   "metadata": {},
   "outputs": [],
   "source": [
    "# The p-value of 0.0 is less than the significance value of 0.05 \n",
    "# So, we reject the null hypothesis that there is no significant difference between the customer cancellations and driver cancellations"
   ]
  },
  {
   "cell_type": "code",
   "execution_count": 627,
   "id": "a32f5a50-595f-4446-b122-3b82d33c812c",
   "metadata": {},
   "outputs": [
    {
     "data": {
      "text/plain": [
       "Pickup Location\n",
       "Khandsa             946\n",
       "Barakhamba Road     940\n",
       "Saket               927\n",
       "Pragati Maidan      918\n",
       "Madipur             916\n",
       "                   ... \n",
       "Chirag Delhi        796\n",
       "Noida Sector 18     796\n",
       "Ashok Vihar         794\n",
       "Laxmi Nagar         789\n",
       "Ghitorni Village    783\n",
       "Name: count, Length: 176, dtype: int64"
      ]
     },
     "execution_count": 627,
     "metadata": {},
     "output_type": "execute_result"
    }
   ],
   "source": [
    "#Pickup Locations\n",
    "\n",
    "pickup_counts = df['Pickup Location'].value_counts()\n",
    "pickup_counts"
   ]
  },
  {
   "cell_type": "code",
   "execution_count": 628,
   "id": "15fd8d8c-c0fc-4e52-be9f-72c46a43eaeb",
   "metadata": {},
   "outputs": [],
   "source": [
    "# Is there a significant difference between the number of rides per Pickup Location"
   ]
  },
  {
   "cell_type": "code",
   "execution_count": 636,
   "id": "ff20bb7b-c1bb-4e67-ba61-624eaf143847",
   "metadata": {},
   "outputs": [],
   "source": [
    "# Null Hypothesis: There is no significant difference between the number of rides per Pickup Location"
   ]
  },
  {
   "cell_type": "code",
   "execution_count": 644,
   "id": "7a3970b5-d241-4554-ae7e-463e467d31cc",
   "metadata": {},
   "outputs": [
    {
     "name": "stdout",
     "output_type": "stream",
     "text": [
      "Chi2 Stat: 187.06870269908245\n",
      "P Value: 0.2526149741617128\n"
     ]
    }
   ],
   "source": [
    "from scipy.stats import chisquare\n",
    "\n",
    "#significance_level = 0.05\n",
    "\n",
    "chi2_stat, p_value = chisquare(pickup_counts)\n",
    "\n",
    "print('Chi2 Stat:', chi2_stat)\n",
    "print('P Value:', p_value)"
   ]
  },
  {
   "cell_type": "code",
   "execution_count": 645,
   "id": "12ecaa2a-b419-48cf-b0b2-ca83f27fb170",
   "metadata": {},
   "outputs": [],
   "source": [
    "# Since the p-value of ~0.2526 is greater than the significance level of 0.05 \n",
    "# we fail to reject the null hypothesis that there is no significant difference between the number of rides per Pickup Location"
   ]
  },
  {
   "cell_type": "code",
   "execution_count": 634,
   "id": "29ce63a1-9ffd-4d80-877c-827a2234d3e3",
   "metadata": {},
   "outputs": [
    {
     "data": {
      "text/plain": [
       "Drop Location\n",
       "Ashram              932\n",
       "Basai Dhankot       916\n",
       "Lok Kalyan Marg     913\n",
       "Narsinghpur         909\n",
       "Kalkaji             908\n",
       "                   ... \n",
       "MG Road             792\n",
       "Shivaji Park        786\n",
       "Bhiwadi             786\n",
       "Anand Vihar ISBT    781\n",
       "Huda City Centre    771\n",
       "Name: count, Length: 176, dtype: int64"
      ]
     },
     "execution_count": 634,
     "metadata": {},
     "output_type": "execute_result"
    }
   ],
   "source": [
    "#Drop Locations\n",
    "\n",
    "drop_counts = df['Drop Location'].value_counts()\n",
    "drop_counts"
   ]
  },
  {
   "cell_type": "code",
   "execution_count": 635,
   "id": "4422c38e-6512-4dde-b729-197c25a1fd09",
   "metadata": {},
   "outputs": [],
   "source": [
    "# Is there a significant difference between the number of rides per Drop Location"
   ]
  },
  {
   "cell_type": "code",
   "execution_count": 641,
   "id": "494ac6f4-adcf-420f-9f6a-69e3879e3c44",
   "metadata": {},
   "outputs": [],
   "source": [
    "# Null Hypothesis (H0): There is no significant difference between the number of rides per Drop Location"
   ]
  },
  {
   "cell_type": "code",
   "execution_count": 643,
   "id": "11a90da5-b9ab-4cda-9d13-82bffcb516e9",
   "metadata": {},
   "outputs": [
    {
     "name": "stdout",
     "output_type": "stream",
     "text": [
      "Chi2 Stat: 172.41441296631172\n",
      "P Value: 0.5410992349303618\n"
     ]
    }
   ],
   "source": [
    "from scipy.stats import chisquare\n",
    "\n",
    "#significance_level = 0.05\n",
    "\n",
    "chi2_stat, p_value = chisquare(drop_counts)\n",
    "\n",
    "print('Chi2 Stat:', chi2_stat)\n",
    "print('P Value:', p_value)"
   ]
  },
  {
   "cell_type": "code",
   "execution_count": 639,
   "id": "aa308194-ac41-439a-bd75-b3b122c3bb0c",
   "metadata": {},
   "outputs": [],
   "source": [
    "# Since the p-value of ~0.5410 is greater than the significance level of 0.05 \n",
    "# we fail to reject the null hypothesis that there is no significant difference between the number of rides per Drop Location"
   ]
  },
  {
   "cell_type": "code",
   "execution_count": 640,
   "id": "f0bc15c8-e254-4422-ad7d-539c1ce5c135",
   "metadata": {},
   "outputs": [],
   "source": [
    "# Is there a relationship between the Pickup and Drop Locations"
   ]
  },
  {
   "cell_type": "code",
   "execution_count": 642,
   "id": "c53eda8c-ba95-4fa7-9360-5f623a88ee71",
   "metadata": {},
   "outputs": [],
   "source": [
    "# Null Hypothesis (H0): Pickup Locations and Drop Locations are independent of one another"
   ]
  },
  {
   "cell_type": "code",
   "execution_count": 647,
   "id": "749aa886-07c7-47ef-b0e9-363a5fb60188",
   "metadata": {},
   "outputs": [
    {
     "name": "stdout",
     "output_type": "stream",
     "text": [
      "\n",
      "\n",
      "Chi2 Stat: 31677.942628437762\n",
      "p-value: 1.2801779991529459e-05\n",
      "Degrees of Freedom: 30625\n"
     ]
    }
   ],
   "source": [
    "#significance_level = 0.05\n",
    "\n",
    "contingency_table = pd.crosstab(df['Pickup Location'],df['Drop Location'])\n",
    "\n",
    "chi2_stat, p_value, dof, expected = chi2_contingency(contingency_table)\n",
    "#dof = (row-1)*(col-1)\n",
    "\n",
    "\n",
    "#print('Contingency Table:')\n",
    "#print(contingency_table)\n",
    "\n",
    "print()\n",
    "print('\\nChi2 Stat:', chi2_stat)\n",
    "print('p-value:', p_value)\n",
    "print('Degrees of Freedom:', dof)"
   ]
  },
  {
   "cell_type": "code",
   "execution_count": 651,
   "id": "f9e6a505-b44d-4b14-b231-587c06949d30",
   "metadata": {},
   "outputs": [],
   "source": [
    "# Since the p-value of ~1.28017e-05 is less than the the significance level of 0.05\n",
    "# we reject the null hypothesis that the Pickup and Drop Locations are independent of one another"
   ]
  }
 ],
 "metadata": {
  "kernelspec": {
   "display_name": "Python [conda env:base] *",
   "language": "python",
   "name": "conda-base-py"
  },
  "language_info": {
   "codemirror_mode": {
    "name": "ipython",
    "version": 3
   },
   "file_extension": ".py",
   "mimetype": "text/x-python",
   "name": "python",
   "nbconvert_exporter": "python",
   "pygments_lexer": "ipython3",
   "version": "3.13.5"
  }
 },
 "nbformat": 4,
 "nbformat_minor": 5
}
